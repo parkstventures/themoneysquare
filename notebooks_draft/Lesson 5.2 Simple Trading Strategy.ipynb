{
 "cells": [
  {
   "cell_type": "markdown",
   "metadata": {},
   "source": [
    "## Build a simple trading strategy "
   ]
  },
  {
   "cell_type": "code",
   "execution_count": 1,
   "metadata": {},
   "outputs": [],
   "source": [
    "import numpy as np\n",
    "import pandas as pd\n",
    "import scipy.stats\n",
    "import math\n",
    "from pandas_datareader import data \n",
    "import datetime\n",
    "import matplotlib.pyplot as plt\n",
    "import seaborn as sn\n",
    "\n",
    "%matplotlib inline"
   ]
  },
  {
   "cell_type": "code",
   "execution_count": 45,
   "metadata": {},
   "outputs": [
    {
     "data": {
      "text/html": [
       "<div>\n",
       "<style scoped>\n",
       "    .dataframe tbody tr th:only-of-type {\n",
       "        vertical-align: middle;\n",
       "    }\n",
       "\n",
       "    .dataframe tbody tr th {\n",
       "        vertical-align: top;\n",
       "    }\n",
       "\n",
       "    .dataframe thead th {\n",
       "        text-align: right;\n",
       "    }\n",
       "</style>\n",
       "<table border=\"1\" class=\"dataframe\">\n",
       "  <thead>\n",
       "    <tr style=\"text-align: right;\">\n",
       "      <th></th>\n",
       "      <th>FB</th>\n",
       "      <th>AAPL</th>\n",
       "    </tr>\n",
       "    <tr>\n",
       "      <th>Date</th>\n",
       "      <th></th>\n",
       "      <th></th>\n",
       "    </tr>\n",
       "  </thead>\n",
       "  <tbody>\n",
       "    <tr>\n",
       "      <th>2012-05-18</th>\n",
       "      <td>38.230000</td>\n",
       "      <td>65.592659</td>\n",
       "    </tr>\n",
       "    <tr>\n",
       "      <th>2012-05-21</th>\n",
       "      <td>34.029999</td>\n",
       "      <td>69.414101</td>\n",
       "    </tr>\n",
       "    <tr>\n",
       "      <th>2012-05-22</th>\n",
       "      <td>31.000000</td>\n",
       "      <td>68.881065</td>\n",
       "    </tr>\n",
       "    <tr>\n",
       "      <th>2012-05-23</th>\n",
       "      <td>32.000000</td>\n",
       "      <td>70.561768</td>\n",
       "    </tr>\n",
       "    <tr>\n",
       "      <th>2012-05-24</th>\n",
       "      <td>33.029999</td>\n",
       "      <td>69.913734</td>\n",
       "    </tr>\n",
       "  </tbody>\n",
       "</table>\n",
       "</div>"
      ],
      "text/plain": [
       "                   FB       AAPL\n",
       "Date                            \n",
       "2012-05-18  38.230000  65.592659\n",
       "2012-05-21  34.029999  69.414101\n",
       "2012-05-22  31.000000  68.881065\n",
       "2012-05-23  32.000000  70.561768\n",
       "2012-05-24  33.029999  69.913734"
      ]
     },
     "execution_count": 45,
     "metadata": {},
     "output_type": "execute_result"
    }
   ],
   "source": [
    "# Our input Variables\n",
    "\n",
    "tickers = ['FB','AAPL']\n",
    "\n",
    "# This variable is used for YTD performance.\n",
    "# end_of_last_year = datetime.datetime(2019, 12, 30)\n",
    "\n",
    "# These are separate if for some reason want different date range than SP.\n",
    "stocks_start = datetime.datetime(2009, 4, 13)\n",
    "stocks_end = datetime.datetime(2020, 7, 5)\n",
    "\n",
    "\n",
    "tickers = [x.upper() for x in tickers] \n",
    "n_assets = len(tickers) \n",
    "\n",
    "stockBucket = pd.DataFrame()\n",
    "for stock_name in tickers:\n",
    "    # daily data\n",
    "    stockBucket[stock_name] = data.DataReader(stock_name, data_source=\"yahoo\", \n",
    "                                         start=stocks_start, end=stocks_end)[\"Adj Close\"] \n",
    "\n",
    "stockBucket.head()"
   ]
  },
  {
   "cell_type": "code",
   "execution_count": 46,
   "metadata": {},
   "outputs": [],
   "source": [
    "# function to extract specific symbol\n",
    "def getSpecificStockFromBucket(bucketName, stockSymbol):\n",
    "    return pd.DataFrame({'Adj Close':bucketName[stockSymbol].values}, index=bucketName[stockSymbol].index)"
   ]
  },
  {
   "cell_type": "code",
   "execution_count": 47,
   "metadata": {},
   "outputs": [
    {
     "data": {
      "text/html": [
       "<div>\n",
       "<style scoped>\n",
       "    .dataframe tbody tr th:only-of-type {\n",
       "        vertical-align: middle;\n",
       "    }\n",
       "\n",
       "    .dataframe tbody tr th {\n",
       "        vertical-align: top;\n",
       "    }\n",
       "\n",
       "    .dataframe thead th {\n",
       "        text-align: right;\n",
       "    }\n",
       "</style>\n",
       "<table border=\"1\" class=\"dataframe\">\n",
       "  <thead>\n",
       "    <tr style=\"text-align: right;\">\n",
       "      <th></th>\n",
       "      <th>Adj Close</th>\n",
       "    </tr>\n",
       "    <tr>\n",
       "      <th>Date</th>\n",
       "      <th></th>\n",
       "    </tr>\n",
       "  </thead>\n",
       "  <tbody>\n",
       "    <tr>\n",
       "      <th>2012-05-18</th>\n",
       "      <td>65.592659</td>\n",
       "    </tr>\n",
       "    <tr>\n",
       "      <th>2012-05-21</th>\n",
       "      <td>69.414101</td>\n",
       "    </tr>\n",
       "    <tr>\n",
       "      <th>2012-05-22</th>\n",
       "      <td>68.881065</td>\n",
       "    </tr>\n",
       "    <tr>\n",
       "      <th>2012-05-23</th>\n",
       "      <td>70.561768</td>\n",
       "    </tr>\n",
       "    <tr>\n",
       "      <th>2012-05-24</th>\n",
       "      <td>69.913734</td>\n",
       "    </tr>\n",
       "  </tbody>\n",
       "</table>\n",
       "</div>"
      ],
      "text/plain": [
       "            Adj Close\n",
       "Date                 \n",
       "2012-05-18  65.592659\n",
       "2012-05-21  69.414101\n",
       "2012-05-22  68.881065\n",
       "2012-05-23  70.561768\n",
       "2012-05-24  69.913734"
      ]
     },
     "execution_count": 47,
     "metadata": {},
     "output_type": "execute_result"
    }
   ],
   "source": [
    "# extract specific symbol from our list\n",
    "stocks = getSpecificStockFromBucket(stockBucket, \"AAPL\")\n",
    "stocks.head()"
   ]
  },
  {
   "cell_type": "markdown",
   "metadata": {},
   "source": [
    "### 1. Munging the stock data and add two columns - MA10 and MA50"
   ]
  },
  {
   "cell_type": "code",
   "execution_count": 48,
   "metadata": {},
   "outputs": [
    {
     "data": {
      "text/html": [
       "<div>\n",
       "<style scoped>\n",
       "    .dataframe tbody tr th:only-of-type {\n",
       "        vertical-align: middle;\n",
       "    }\n",
       "\n",
       "    .dataframe tbody tr th {\n",
       "        vertical-align: top;\n",
       "    }\n",
       "\n",
       "    .dataframe thead th {\n",
       "        text-align: right;\n",
       "    }\n",
       "</style>\n",
       "<table border=\"1\" class=\"dataframe\">\n",
       "  <thead>\n",
       "    <tr style=\"text-align: right;\">\n",
       "      <th></th>\n",
       "      <th>Adj Close</th>\n",
       "      <th>MA10</th>\n",
       "      <th>MA50</th>\n",
       "    </tr>\n",
       "    <tr>\n",
       "      <th>Date</th>\n",
       "      <th></th>\n",
       "      <th></th>\n",
       "      <th></th>\n",
       "    </tr>\n",
       "  </thead>\n",
       "  <tbody>\n",
       "    <tr>\n",
       "      <th>2012-07-30</th>\n",
       "      <td>73.588005</td>\n",
       "      <td>73.789701</td>\n",
       "      <td>72.108759</td>\n",
       "    </tr>\n",
       "    <tr>\n",
       "      <th>2012-07-31</th>\n",
       "      <td>75.533325</td>\n",
       "      <td>73.836943</td>\n",
       "      <td>72.307573</td>\n",
       "    </tr>\n",
       "    <tr>\n",
       "      <th>2012-08-01</th>\n",
       "      <td>75.044838</td>\n",
       "      <td>73.843744</td>\n",
       "      <td>72.420187</td>\n",
       "    </tr>\n",
       "    <tr>\n",
       "      <th>2012-08-02</th>\n",
       "      <td>75.166046</td>\n",
       "      <td>73.762987</td>\n",
       "      <td>72.545887</td>\n",
       "    </tr>\n",
       "    <tr>\n",
       "      <th>2012-08-03</th>\n",
       "      <td>76.144272</td>\n",
       "      <td>73.903970</td>\n",
       "      <td>72.657537</td>\n",
       "    </tr>\n",
       "  </tbody>\n",
       "</table>\n",
       "</div>"
      ],
      "text/plain": [
       "            Adj Close       MA10       MA50\n",
       "Date                                       \n",
       "2012-07-30  73.588005  73.789701  72.108759\n",
       "2012-07-31  75.533325  73.836943  72.307573\n",
       "2012-08-01  75.044838  73.843744  72.420187\n",
       "2012-08-02  75.166046  73.762987  72.545887\n",
       "2012-08-03  76.144272  73.903970  72.657537"
      ]
     },
     "execution_count": 48,
     "metadata": {},
     "output_type": "execute_result"
    }
   ],
   "source": [
    "#import FB's stock data, add two columns - MA10 and MA50\n",
    "#use dropna to remove any \"Not a Number\" data\n",
    "stocks['MA10'] = stocks['Adj Close'].rolling(10).mean()\n",
    "stocks['MA50'] = stocks['Adj Close'].rolling(50).mean()\n",
    "stocks = stocks.dropna()\n",
    "stocks.head()"
   ]
  },
  {
   "cell_type": "markdown",
   "metadata": {},
   "source": [
    "### 2. Add \"Shares\" column to make decisions base on the strategy"
   ]
  },
  {
   "cell_type": "code",
   "execution_count": 49,
   "metadata": {},
   "outputs": [],
   "source": [
    "stocks['Shares'] = [1 if stocks.loc[ei, 'MA10']>stocks.loc[ei, 'MA50'] else 0 for ei in stocks.index]"
   ]
  },
  {
   "cell_type": "code",
   "execution_count": 50,
   "metadata": {},
   "outputs": [
    {
     "data": {
      "text/plain": [
       "<matplotlib.lines.Line2D at 0x7faada238cd0>"
      ]
     },
     "execution_count": 50,
     "metadata": {},
     "output_type": "execute_result"
    },
    {
     "data": {
      "image/png": "[encoded data removed]",
      "text/plain": [
       "<Figure size 432x288 with 1 Axes>"
      ]
     },
     "metadata": {
      "needs_background": "light"
     },
     "output_type": "display_data"
    }
   ],
   "source": [
    "#Add a new column \"Profit\" using List Comprehension, for any rows in fb, if Shares=1, the profit is calculated as the close price of \n",
    "#tomorrow - the close price of today. Otherwise the profit is 0.\n",
    "\n",
    "#Plot a graph to show the Profit/Loss\n",
    "\n",
    "stocks['Close1'] = stocks['Adj Close'].shift(-1)\n",
    "stocks['Profit'] = [stocks.loc[ei, 'Close1'] - stocks.loc[ei, 'Adj Close'] if stocks.loc[ei, 'Shares']==1 else 0 for ei in stocks.index]\n",
    "stocks['Profit'].plot()\n",
    "plt.axhline(y=0, color='red')"
   ]
  },
  {
   "cell_type": "markdown",
   "metadata": {},
   "source": [
    "### 3. Use .cumsum() to display our model's performance if we follow the strategy"
   ]
  },
  {
   "cell_type": "code",
   "execution_count": 51,
   "metadata": {},
   "outputs": [
    {
     "data": {
      "text/html": [
       "<div>\n",
       "<style scoped>\n",
       "    .dataframe tbody tr th:only-of-type {\n",
       "        vertical-align: middle;\n",
       "    }\n",
       "\n",
       "    .dataframe tbody tr th {\n",
       "        vertical-align: top;\n",
       "    }\n",
       "\n",
       "    .dataframe thead th {\n",
       "        text-align: right;\n",
       "    }\n",
       "</style>\n",
       "<table border=\"1\" class=\"dataframe\">\n",
       "  <thead>\n",
       "    <tr style=\"text-align: right;\">\n",
       "      <th></th>\n",
       "      <th>Adj Close</th>\n",
       "      <th>MA10</th>\n",
       "      <th>MA50</th>\n",
       "      <th>Shares</th>\n",
       "      <th>Close1</th>\n",
       "      <th>Profit</th>\n",
       "      <th>wealth</th>\n",
       "    </tr>\n",
       "    <tr>\n",
       "      <th>Date</th>\n",
       "      <th></th>\n",
       "      <th></th>\n",
       "      <th></th>\n",
       "      <th></th>\n",
       "      <th></th>\n",
       "      <th></th>\n",
       "      <th></th>\n",
       "    </tr>\n",
       "  </thead>\n",
       "  <tbody>\n",
       "    <tr>\n",
       "      <th>2020-06-26</th>\n",
       "      <td>353.630005</td>\n",
       "      <td>355.203998</td>\n",
       "      <td>317.495387</td>\n",
       "      <td>1</td>\n",
       "      <td>361.779999</td>\n",
       "      <td>8.149994</td>\n",
       "      <td>248.331314</td>\n",
       "    </tr>\n",
       "    <tr>\n",
       "      <th>2020-06-29</th>\n",
       "      <td>361.779999</td>\n",
       "      <td>357.082999</td>\n",
       "      <td>319.090256</td>\n",
       "      <td>1</td>\n",
       "      <td>364.799988</td>\n",
       "      <td>3.019989</td>\n",
       "      <td>251.351303</td>\n",
       "    </tr>\n",
       "    <tr>\n",
       "      <th>2020-06-30</th>\n",
       "      <td>364.799988</td>\n",
       "      <td>358.354999</td>\n",
       "      <td>320.862609</td>\n",
       "      <td>1</td>\n",
       "      <td>364.109985</td>\n",
       "      <td>-0.690002</td>\n",
       "      <td>250.661301</td>\n",
       "    </tr>\n",
       "    <tr>\n",
       "      <th>2020-07-01</th>\n",
       "      <td>364.109985</td>\n",
       "      <td>359.606998</td>\n",
       "      <td>322.791899</td>\n",
       "      <td>1</td>\n",
       "      <td>364.109985</td>\n",
       "      <td>0.000000</td>\n",
       "      <td>250.661301</td>\n",
       "    </tr>\n",
       "    <tr>\n",
       "      <th>2020-07-02</th>\n",
       "      <td>364.109985</td>\n",
       "      <td>360.844995</td>\n",
       "      <td>324.567006</td>\n",
       "      <td>1</td>\n",
       "      <td>NaN</td>\n",
       "      <td>NaN</td>\n",
       "      <td>NaN</td>\n",
       "    </tr>\n",
       "  </tbody>\n",
       "</table>\n",
       "</div>"
      ],
      "text/plain": [
       "             Adj Close        MA10        MA50  Shares      Close1    Profit  \\\n",
       "Date                                                                           \n",
       "2020-06-26  353.630005  355.203998  317.495387       1  361.779999  8.149994   \n",
       "2020-06-29  361.779999  357.082999  319.090256       1  364.799988  3.019989   \n",
       "2020-06-30  364.799988  358.354999  320.862609       1  364.109985 -0.690002   \n",
       "2020-07-01  364.109985  359.606998  322.791899       1  364.109985  0.000000   \n",
       "2020-07-02  364.109985  360.844995  324.567006       1         NaN       NaN   \n",
       "\n",
       "                wealth  \n",
       "Date                    \n",
       "2020-06-26  248.331314  \n",
       "2020-06-29  251.351303  \n",
       "2020-06-30  250.661301  \n",
       "2020-07-01  250.661301  \n",
       "2020-07-02         NaN  "
      ]
     },
     "execution_count": 51,
     "metadata": {},
     "output_type": "execute_result"
    }
   ],
   "source": [
    "#Use .cumsum() to calculate the accumulated wealth over the period\n",
    "\n",
    "stocks['wealth'] = stocks['Profit'].cumsum()\n",
    "stocks.tail()"
   ]
  },
  {
   "cell_type": "code",
   "execution_count": 52,
   "metadata": {},
   "outputs": [
    {
     "data": {
      "text/plain": [
       "Text(0.5, 1.0, 'Total money you win is 250.6613006591797')"
      ]
     },
     "execution_count": 52,
     "metadata": {},
     "output_type": "execute_result"
    },
    {
     "data": {
      "image/png": "[encoded data removed]",
      "text/plain": [
       "<Figure size 432x288 with 1 Axes>"
      ]
     },
     "metadata": {
      "needs_background": "light"
     },
     "output_type": "display_data"
    }
   ],
   "source": [
    "#plot the wealth to show the growth of profit over the period\n",
    "\n",
    "stocks['wealth'].plot()\n",
    "plt.title('Total money you win is {}'.format(stocks.loc[stocks.index[-2], 'wealth']))"
   ]
  },
  {
   "cell_type": "code",
   "execution_count": null,
   "metadata": {},
   "outputs": [],
   "source": []
  }
 ],
 "metadata": {
  "kernelspec": {
   "display_name": "Python 3",
   "language": "python",
   "name": "python3"
  },
  "language_info": {
   "codemirror_mode": {
    "name": "ipython",
    "version": 3
   },
   "file_extension": ".py",
   "mimetype": "text/x-python",
   "name": "python",
   "nbconvert_exporter": "python",
   "pygments_lexer": "ipython3",
   "version": "3.7.6"
  }
 },
 "nbformat": 4,
 "nbformat_minor": 4
}
