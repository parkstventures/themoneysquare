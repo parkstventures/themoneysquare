{
 "cells": [
  {
   "cell_type": "markdown",
   "metadata": {},
   "source": [
    "# Coursera class Python and Statistics for Financial Analysis\n"
   ]
  },
  {
   "cell_type": "code",
   "execution_count": 1,
   "metadata": {},
   "outputs": [],
   "source": [
    "import numpy as np\n",
    "import pandas as pd\n",
    "import scipy.stats\n",
    "import math\n",
    "from pandas_datareader import data \n",
    "import datetime\n",
    "import matplotlib.pyplot as plt\n",
    "import seaborn as sn\n",
    "\n",
    "%matplotlib inline"
   ]
  },
  {
   "cell_type": "code",
   "execution_count": 2,
   "metadata": {},
   "outputs": [],
   "source": [
    "# Our input Variables\n",
    "\n",
    "tickers = ['FB','MSFT']\n",
    "\n",
    "# Date Ranges for for all tickers\n",
    "\n",
    "# The below will pull back stock prices from 2010 until end date specified.\n",
    "start_sp = datetime.datetime(2010, 1, 1)\n",
    "end_sp = datetime.datetime(2020, 3, 31)"
   ]
  },
  {
   "cell_type": "code",
   "execution_count": 3,
   "metadata": {},
   "outputs": [
    {
     "data": {
      "text/html": [
       "<div>\n",
       "<style scoped>\n",
       "    .dataframe tbody tr th:only-of-type {\n",
       "        vertical-align: middle;\n",
       "    }\n",
       "\n",
       "    .dataframe tbody tr th {\n",
       "        vertical-align: top;\n",
       "    }\n",
       "\n",
       "    .dataframe thead th {\n",
       "        text-align: right;\n",
       "    }\n",
       "</style>\n",
       "<table border=\"1\" class=\"dataframe\">\n",
       "  <thead>\n",
       "    <tr style=\"text-align: right;\">\n",
       "      <th></th>\n",
       "      <th>FB</th>\n",
       "      <th>MSFT</th>\n",
       "    </tr>\n",
       "    <tr>\n",
       "      <th>Date</th>\n",
       "      <th></th>\n",
       "      <th></th>\n",
       "    </tr>\n",
       "  </thead>\n",
       "  <tbody>\n",
       "    <tr>\n",
       "      <th>2013-01-02</th>\n",
       "      <td>28.000000</td>\n",
       "      <td>23.297653</td>\n",
       "    </tr>\n",
       "    <tr>\n",
       "      <th>2013-01-03</th>\n",
       "      <td>27.770000</td>\n",
       "      <td>22.985548</td>\n",
       "    </tr>\n",
       "    <tr>\n",
       "      <th>2013-01-04</th>\n",
       "      <td>28.760000</td>\n",
       "      <td>22.555361</td>\n",
       "    </tr>\n",
       "    <tr>\n",
       "      <th>2013-01-07</th>\n",
       "      <td>29.420000</td>\n",
       "      <td>22.513191</td>\n",
       "    </tr>\n",
       "    <tr>\n",
       "      <th>2013-01-08</th>\n",
       "      <td>29.059999</td>\n",
       "      <td>22.395096</td>\n",
       "    </tr>\n",
       "  </tbody>\n",
       "</table>\n",
       "</div>"
      ],
      "text/plain": [
       "                   FB       MSFT\n",
       "Date                            \n",
       "2013-01-02  28.000000  23.297653\n",
       "2013-01-03  27.770000  22.985548\n",
       "2013-01-04  28.760000  22.555361\n",
       "2013-01-07  29.420000  22.513191\n",
       "2013-01-08  29.059999  22.395096"
      ]
     },
     "execution_count": 3,
     "metadata": {},
     "output_type": "execute_result"
    }
   ],
   "source": [
    "# This variable is used for YTD performance.\n",
    "end_of_last_year = datetime.datetime(2019, 12, 30)\n",
    "\n",
    "# These are separate if for some reason want different date range than SP.\n",
    "stocks_start = datetime.datetime(2013, 1, 1)\n",
    "stocks_end = datetime.datetime(2020, 3, 31)\n",
    "\n",
    "\n",
    "tickers = [x.upper() for x in tickers] \n",
    "n_assets = len(tickers) \n",
    "\n",
    "stockBucket = pd.DataFrame()\n",
    "for stock_name in tickers:\n",
    "    # daily data\n",
    "    stockBucket[stock_name] = data.DataReader(stock_name, data_source=\"yahoo\", \n",
    "                                         start=stocks_start, end=stocks_end)[\"Adj Close\"] \n",
    "\n",
    "stockBucket.head()"
   ]
  },
  {
   "cell_type": "code",
   "execution_count": 4,
   "metadata": {},
   "outputs": [],
   "source": [
    "# function to extract specific symbol\n",
    "def getSpecificStockFromBucket(bucketName, stockSymbol):\n",
    "    return pd.DataFrame({'Adj Close':bucketName[stockSymbol].values}, index=bucketName[stockSymbol].index)"
   ]
  },
  {
   "cell_type": "code",
   "execution_count": 5,
   "metadata": {},
   "outputs": [
    {
     "data": {
      "text/html": [
       "<div>\n",
       "<style scoped>\n",
       "    .dataframe tbody tr th:only-of-type {\n",
       "        vertical-align: middle;\n",
       "    }\n",
       "\n",
       "    .dataframe tbody tr th {\n",
       "        vertical-align: top;\n",
       "    }\n",
       "\n",
       "    .dataframe thead th {\n",
       "        text-align: right;\n",
       "    }\n",
       "</style>\n",
       "<table border=\"1\" class=\"dataframe\">\n",
       "  <thead>\n",
       "    <tr style=\"text-align: right;\">\n",
       "      <th></th>\n",
       "      <th>Adj Close</th>\n",
       "    </tr>\n",
       "    <tr>\n",
       "      <th>Date</th>\n",
       "      <th></th>\n",
       "    </tr>\n",
       "  </thead>\n",
       "  <tbody>\n",
       "    <tr>\n",
       "      <th>2013-01-02</th>\n",
       "      <td>23.297653</td>\n",
       "    </tr>\n",
       "    <tr>\n",
       "      <th>2013-01-03</th>\n",
       "      <td>22.985548</td>\n",
       "    </tr>\n",
       "    <tr>\n",
       "      <th>2013-01-04</th>\n",
       "      <td>22.555361</td>\n",
       "    </tr>\n",
       "    <tr>\n",
       "      <th>2013-01-07</th>\n",
       "      <td>22.513191</td>\n",
       "    </tr>\n",
       "    <tr>\n",
       "      <th>2013-01-08</th>\n",
       "      <td>22.395096</td>\n",
       "    </tr>\n",
       "  </tbody>\n",
       "</table>\n",
       "</div>"
      ],
      "text/plain": [
       "            Adj Close\n",
       "Date                 \n",
       "2013-01-02  23.297653\n",
       "2013-01-03  22.985548\n",
       "2013-01-04  22.555361\n",
       "2013-01-07  22.513191\n",
       "2013-01-08  22.395096"
      ]
     },
     "execution_count": 5,
     "metadata": {},
     "output_type": "execute_result"
    }
   ],
   "source": [
    "# extract specific symbol from our list\n",
    "stocks = getSpecificStockFromBucket(stockBucket, \"MSFT\")\n",
    "stocks.head()"
   ]
  },
  {
   "cell_type": "code",
   "execution_count": 6,
   "metadata": {},
   "outputs": [
    {
     "data": {
      "text/plain": [
       "Adj Close    float64\n",
       "dtype: object"
      ]
     },
     "execution_count": 6,
     "metadata": {},
     "output_type": "execute_result"
    }
   ],
   "source": [
    "# check the column types in the dataframe\n",
    "stocks.dtypes"
   ]
  },
  {
   "cell_type": "markdown",
   "metadata": {},
   "source": [
    "## Create a new column in the DataFrame (1) - Price difference"
   ]
  },
  {
   "cell_type": "code",
   "execution_count": 7,
   "metadata": {},
   "outputs": [
    {
     "data": {
      "text/html": [
       "<div>\n",
       "<style scoped>\n",
       "    .dataframe tbody tr th:only-of-type {\n",
       "        vertical-align: middle;\n",
       "    }\n",
       "\n",
       "    .dataframe tbody tr th {\n",
       "        vertical-align: top;\n",
       "    }\n",
       "\n",
       "    .dataframe thead th {\n",
       "        text-align: right;\n",
       "    }\n",
       "</style>\n",
       "<table border=\"1\" class=\"dataframe\">\n",
       "  <thead>\n",
       "    <tr style=\"text-align: right;\">\n",
       "      <th></th>\n",
       "      <th>Adj Close</th>\n",
       "      <th>PriceDiff</th>\n",
       "    </tr>\n",
       "    <tr>\n",
       "      <th>Date</th>\n",
       "      <th></th>\n",
       "      <th></th>\n",
       "    </tr>\n",
       "  </thead>\n",
       "  <tbody>\n",
       "    <tr>\n",
       "      <th>2013-01-02</th>\n",
       "      <td>23.297653</td>\n",
       "      <td>-0.312105</td>\n",
       "    </tr>\n",
       "    <tr>\n",
       "      <th>2013-01-03</th>\n",
       "      <td>22.985548</td>\n",
       "      <td>-0.430187</td>\n",
       "    </tr>\n",
       "    <tr>\n",
       "      <th>2013-01-04</th>\n",
       "      <td>22.555361</td>\n",
       "      <td>-0.042170</td>\n",
       "    </tr>\n",
       "    <tr>\n",
       "      <th>2013-01-07</th>\n",
       "      <td>22.513191</td>\n",
       "      <td>-0.118095</td>\n",
       "    </tr>\n",
       "    <tr>\n",
       "      <th>2013-01-08</th>\n",
       "      <td>22.395096</td>\n",
       "      <td>0.126528</td>\n",
       "    </tr>\n",
       "  </tbody>\n",
       "</table>\n",
       "</div>"
      ],
      "text/plain": [
       "            Adj Close  PriceDiff\n",
       "Date                            \n",
       "2013-01-02  23.297653  -0.312105\n",
       "2013-01-03  22.985548  -0.430187\n",
       "2013-01-04  22.555361  -0.042170\n",
       "2013-01-07  22.513191  -0.118095\n",
       "2013-01-08  22.395096   0.126528"
      ]
     },
     "execution_count": 7,
     "metadata": {},
     "output_type": "execute_result"
    }
   ],
   "source": [
    "#Create a new column PriceDiff in the DataFrame fb\n",
    "stocks['PriceDiff'] = stocks['Adj Close'].shift(-1) - stocks['Adj Close']\n",
    "stocks.head()\n",
    "\n",
    "#Run this code to display the price difference on a specific date\n",
    "#print(stocks['PriceDiff'].loc['2015-01-05'])"
   ]
  },
  {
   "cell_type": "code",
   "execution_count": 8,
   "metadata": {},
   "outputs": [
    {
     "data": {
      "text/html": [
       "<div>\n",
       "<style scoped>\n",
       "    .dataframe tbody tr th:only-of-type {\n",
       "        vertical-align: middle;\n",
       "    }\n",
       "\n",
       "    .dataframe tbody tr th {\n",
       "        vertical-align: top;\n",
       "    }\n",
       "\n",
       "    .dataframe thead th {\n",
       "        text-align: right;\n",
       "    }\n",
       "</style>\n",
       "<table border=\"1\" class=\"dataframe\">\n",
       "  <thead>\n",
       "    <tr style=\"text-align: right;\">\n",
       "      <th></th>\n",
       "      <th>Adj Close</th>\n",
       "      <th>PriceDiff</th>\n",
       "      <th>Return</th>\n",
       "    </tr>\n",
       "    <tr>\n",
       "      <th>Date</th>\n",
       "      <th></th>\n",
       "      <th></th>\n",
       "      <th></th>\n",
       "    </tr>\n",
       "  </thead>\n",
       "  <tbody>\n",
       "    <tr>\n",
       "      <th>2013-01-02</th>\n",
       "      <td>23.297653</td>\n",
       "      <td>-0.312105</td>\n",
       "      <td>-0.013396</td>\n",
       "    </tr>\n",
       "    <tr>\n",
       "      <th>2013-01-03</th>\n",
       "      <td>22.985548</td>\n",
       "      <td>-0.430187</td>\n",
       "      <td>-0.018716</td>\n",
       "    </tr>\n",
       "    <tr>\n",
       "      <th>2013-01-04</th>\n",
       "      <td>22.555361</td>\n",
       "      <td>-0.042170</td>\n",
       "      <td>-0.001870</td>\n",
       "    </tr>\n",
       "    <tr>\n",
       "      <th>2013-01-07</th>\n",
       "      <td>22.513191</td>\n",
       "      <td>-0.118095</td>\n",
       "      <td>-0.005246</td>\n",
       "    </tr>\n",
       "    <tr>\n",
       "      <th>2013-01-08</th>\n",
       "      <td>22.395096</td>\n",
       "      <td>0.126528</td>\n",
       "      <td>0.005650</td>\n",
       "    </tr>\n",
       "  </tbody>\n",
       "</table>\n",
       "</div>"
      ],
      "text/plain": [
       "            Adj Close  PriceDiff    Return\n",
       "Date                                      \n",
       "2013-01-02  23.297653  -0.312105 -0.013396\n",
       "2013-01-03  22.985548  -0.430187 -0.018716\n",
       "2013-01-04  22.555361  -0.042170 -0.001870\n",
       "2013-01-07  22.513191  -0.118095 -0.005246\n",
       "2013-01-08  22.395096   0.126528  0.005650"
      ]
     },
     "execution_count": 8,
     "metadata": {},
     "output_type": "execute_result"
    }
   ],
   "source": [
    "# Daily Return is calcuated as PriceDiff/Close\n",
    "#Create a new column Return in the DataFrame\n",
    "stocks['Return'] = stocks['PriceDiff'] /stocks['Adj Close']\n",
    "stocks.head()"
   ]
  },
  {
   "cell_type": "markdown",
   "metadata": {},
   "source": [
    "### Create a new column in the DataFrame using List Comprehension - Direction"
   ]
  },
  {
   "cell_type": "code",
   "execution_count": 9,
   "metadata": {},
   "outputs": [
    {
     "data": {
      "text/html": [
       "<div>\n",
       "<style scoped>\n",
       "    .dataframe tbody tr th:only-of-type {\n",
       "        vertical-align: middle;\n",
       "    }\n",
       "\n",
       "    .dataframe tbody tr th {\n",
       "        vertical-align: top;\n",
       "    }\n",
       "\n",
       "    .dataframe thead th {\n",
       "        text-align: right;\n",
       "    }\n",
       "</style>\n",
       "<table border=\"1\" class=\"dataframe\">\n",
       "  <thead>\n",
       "    <tr style=\"text-align: right;\">\n",
       "      <th></th>\n",
       "      <th>Adj Close</th>\n",
       "      <th>PriceDiff</th>\n",
       "      <th>Return</th>\n",
       "      <th>Direction</th>\n",
       "    </tr>\n",
       "    <tr>\n",
       "      <th>Date</th>\n",
       "      <th></th>\n",
       "      <th></th>\n",
       "      <th></th>\n",
       "      <th></th>\n",
       "    </tr>\n",
       "  </thead>\n",
       "  <tbody>\n",
       "    <tr>\n",
       "      <th>2013-01-02</th>\n",
       "      <td>23.297653</td>\n",
       "      <td>-0.312105</td>\n",
       "      <td>-0.013396</td>\n",
       "      <td>0</td>\n",
       "    </tr>\n",
       "    <tr>\n",
       "      <th>2013-01-03</th>\n",
       "      <td>22.985548</td>\n",
       "      <td>-0.430187</td>\n",
       "      <td>-0.018716</td>\n",
       "      <td>0</td>\n",
       "    </tr>\n",
       "    <tr>\n",
       "      <th>2013-01-04</th>\n",
       "      <td>22.555361</td>\n",
       "      <td>-0.042170</td>\n",
       "      <td>-0.001870</td>\n",
       "      <td>0</td>\n",
       "    </tr>\n",
       "    <tr>\n",
       "      <th>2013-01-07</th>\n",
       "      <td>22.513191</td>\n",
       "      <td>-0.118095</td>\n",
       "      <td>-0.005246</td>\n",
       "      <td>0</td>\n",
       "    </tr>\n",
       "    <tr>\n",
       "      <th>2013-01-08</th>\n",
       "      <td>22.395096</td>\n",
       "      <td>0.126528</td>\n",
       "      <td>0.005650</td>\n",
       "      <td>1</td>\n",
       "    </tr>\n",
       "  </tbody>\n",
       "</table>\n",
       "</div>"
      ],
      "text/plain": [
       "            Adj Close  PriceDiff    Return  Direction\n",
       "Date                                                 \n",
       "2013-01-02  23.297653  -0.312105 -0.013396          0\n",
       "2013-01-03  22.985548  -0.430187 -0.018716          0\n",
       "2013-01-04  22.555361  -0.042170 -0.001870          0\n",
       "2013-01-07  22.513191  -0.118095 -0.005246          0\n",
       "2013-01-08  22.395096   0.126528  0.005650          1"
      ]
     },
     "execution_count": 9,
     "metadata": {},
     "output_type": "execute_result"
    }
   ],
   "source": [
    "#Create a new column Direction. \n",
    "#The List Comprehension means : if the price difference is larger than 0, denote as 1, otherwise, denote as 0,\n",
    "#for every record in the DataFrame - fb\n",
    "\n",
    "stocks['Direction'] = [1 if stocks['PriceDiff'].loc[ei] > 0 else 0 for ei in stocks.index ]\n",
    "stocks.head()"
   ]
  },
  {
   "cell_type": "markdown",
   "metadata": {},
   "source": [
    "### Create a new column in the DataFrame using Rolling Window calculation (.rolling()) - Moving average"
   ]
  },
  {
   "cell_type": "code",
   "execution_count": 10,
   "metadata": {},
   "outputs": [
    {
     "data": {
      "text/html": [
       "<div>\n",
       "<style scoped>\n",
       "    .dataframe tbody tr th:only-of-type {\n",
       "        vertical-align: middle;\n",
       "    }\n",
       "\n",
       "    .dataframe tbody tr th {\n",
       "        vertical-align: top;\n",
       "    }\n",
       "\n",
       "    .dataframe thead th {\n",
       "        text-align: right;\n",
       "    }\n",
       "</style>\n",
       "<table border=\"1\" class=\"dataframe\">\n",
       "  <thead>\n",
       "    <tr style=\"text-align: right;\">\n",
       "      <th></th>\n",
       "      <th>Adj Close</th>\n",
       "      <th>PriceDiff</th>\n",
       "      <th>Return</th>\n",
       "      <th>Direction</th>\n",
       "      <th>ma50</th>\n",
       "    </tr>\n",
       "    <tr>\n",
       "      <th>Date</th>\n",
       "      <th></th>\n",
       "      <th></th>\n",
       "      <th></th>\n",
       "      <th></th>\n",
       "      <th></th>\n",
       "    </tr>\n",
       "  </thead>\n",
       "  <tbody>\n",
       "    <tr>\n",
       "      <th>2013-03-14</th>\n",
       "      <td>23.932791</td>\n",
       "      <td>-0.085043</td>\n",
       "      <td>-0.003553</td>\n",
       "      <td>0</td>\n",
       "      <td>23.331839</td>\n",
       "    </tr>\n",
       "    <tr>\n",
       "      <th>2013-03-15</th>\n",
       "      <td>23.847748</td>\n",
       "      <td>0.051025</td>\n",
       "      <td>0.002140</td>\n",
       "      <td>1</td>\n",
       "      <td>23.342841</td>\n",
       "    </tr>\n",
       "    <tr>\n",
       "      <th>2013-03-18</th>\n",
       "      <td>23.898773</td>\n",
       "      <td>0.068039</td>\n",
       "      <td>0.002847</td>\n",
       "      <td>1</td>\n",
       "      <td>23.361105</td>\n",
       "    </tr>\n",
       "    <tr>\n",
       "      <th>2013-03-19</th>\n",
       "      <td>23.966812</td>\n",
       "      <td>0.119070</td>\n",
       "      <td>0.004968</td>\n",
       "      <td>1</td>\n",
       "      <td>23.389334</td>\n",
       "    </tr>\n",
       "    <tr>\n",
       "      <th>2013-03-20</th>\n",
       "      <td>24.085882</td>\n",
       "      <td>-0.178604</td>\n",
       "      <td>-0.007415</td>\n",
       "      <td>0</td>\n",
       "      <td>23.420788</td>\n",
       "    </tr>\n",
       "    <tr>\n",
       "      <th>...</th>\n",
       "      <td>...</td>\n",
       "      <td>...</td>\n",
       "      <td>...</td>\n",
       "      <td>...</td>\n",
       "      <td>...</td>\n",
       "    </tr>\n",
       "    <tr>\n",
       "      <th>2020-03-24</th>\n",
       "      <td>147.928009</td>\n",
       "      <td>-1.416061</td>\n",
       "      <td>-0.009573</td>\n",
       "      <td>0</td>\n",
       "      <td>165.418823</td>\n",
       "    </tr>\n",
       "    <tr>\n",
       "      <th>2020-03-25</th>\n",
       "      <td>146.511948</td>\n",
       "      <td>9.164490</td>\n",
       "      <td>0.062551</td>\n",
       "      <td>1</td>\n",
       "      <td>165.101402</td>\n",
       "    </tr>\n",
       "    <tr>\n",
       "      <th>2020-03-26</th>\n",
       "      <td>155.676437</td>\n",
       "      <td>-6.392212</td>\n",
       "      <td>-0.041061</td>\n",
       "      <td>0</td>\n",
       "      <td>164.990145</td>\n",
       "    </tr>\n",
       "    <tr>\n",
       "      <th>2020-03-27</th>\n",
       "      <td>149.284225</td>\n",
       "      <td>10.500763</td>\n",
       "      <td>0.070341</td>\n",
       "      <td>1</td>\n",
       "      <td>164.730158</td>\n",
       "    </tr>\n",
       "    <tr>\n",
       "      <th>2020-03-30</th>\n",
       "      <td>159.784988</td>\n",
       "      <td>-2.513000</td>\n",
       "      <td>-0.015727</td>\n",
       "      <td>0</td>\n",
       "      <td>164.620716</td>\n",
       "    </tr>\n",
       "  </tbody>\n",
       "</table>\n",
       "<p>1774 rows × 5 columns</p>\n",
       "</div>"
      ],
      "text/plain": [
       "             Adj Close  PriceDiff    Return  Direction        ma50\n",
       "Date                                                              \n",
       "2013-03-14   23.932791  -0.085043 -0.003553          0   23.331839\n",
       "2013-03-15   23.847748   0.051025  0.002140          1   23.342841\n",
       "2013-03-18   23.898773   0.068039  0.002847          1   23.361105\n",
       "2013-03-19   23.966812   0.119070  0.004968          1   23.389334\n",
       "2013-03-20   24.085882  -0.178604 -0.007415          0   23.420788\n",
       "...                ...        ...       ...        ...         ...\n",
       "2020-03-24  147.928009  -1.416061 -0.009573          0  165.418823\n",
       "2020-03-25  146.511948   9.164490  0.062551          1  165.101402\n",
       "2020-03-26  155.676437  -6.392212 -0.041061          0  164.990145\n",
       "2020-03-27  149.284225  10.500763  0.070341          1  164.730158\n",
       "2020-03-30  159.784988  -2.513000 -0.015727          0  164.620716\n",
       "\n",
       "[1774 rows x 5 columns]"
      ]
     },
     "execution_count": 10,
     "metadata": {},
     "output_type": "execute_result"
    }
   ],
   "source": [
    "stocks['ma50'] = stocks['Adj Close'].rolling(50).mean()\n",
    "stocks.dropna()"
   ]
  },
  {
   "cell_type": "code",
   "execution_count": 11,
   "metadata": {},
   "outputs": [
    {
     "data": {
      "image/png": "[encoded data removed]",
      "text/plain": [
       "<Figure size 720x576 with 1 Axes>"
      ]
     },
     "metadata": {
      "needs_background": "light"
     },
     "output_type": "display_data"
    }
   ],
   "source": [
    "plt.figure(figsize=(10, 8))\n",
    "stocks['ma50'].plot(label='MA50')\n",
    "stocks['Adj Close'].plot(label='Adj Close')\n",
    "plt.legend()\n",
    "plt.show()"
   ]
  },
  {
   "cell_type": "markdown",
   "metadata": {},
   "source": [
    "### Distribution of Log return"
   ]
  },
  {
   "cell_type": "code",
   "execution_count": 12,
   "metadata": {},
   "outputs": [],
   "source": [
    "# let calculating the log daily return\n",
    "stocks['LogReturn'] = np.log(stocks['Adj Close']).shift(-1) - np.log(stocks['Adj Close'])"
   ]
  },
  {
   "cell_type": "code",
   "execution_count": 13,
   "metadata": {},
   "outputs": [
    {
     "data": {
      "image/png": "[encoded data removed]",
      "text/plain": [
       "<Figure size 1080x576 with 1 Axes>"
      ]
     },
     "metadata": {
      "needs_background": "light"
     },
     "output_type": "display_data"
    }
   ],
   "source": [
    "# Plot a histogram to show the distribution of log return  \n",
    "# You can see it is very close to a normal distribution\n",
    "from scipy.stats import norm\n",
    "mu = stocks['LogReturn'].mean()\n",
    "sigma = stocks['LogReturn'].std(ddof=1)\n",
    "\n",
    "density = pd.DataFrame()\n",
    "density['x'] = np.arange(stocks['LogReturn'].min()-0.01, stocks['LogReturn'].max()+0.01, 0.001)\n",
    "density['pdf'] = norm.pdf(density['x'], mu, sigma)\n",
    "\n",
    "stocks['LogReturn'].hist(bins=50, figsize=(15, 8))\n",
    "plt.plot(density['x'], density['pdf'], color='red')\n",
    "plt.show()"
   ]
  },
  {
   "cell_type": "markdown",
   "metadata": {},
   "source": [
    "### Calculate the probability of the stock price will drop over a certain percentage in a day"
   ]
  },
  {
   "cell_type": "code",
   "execution_count": 14,
   "metadata": {},
   "outputs": [
    {
     "name": "stdout",
     "output_type": "stream",
     "text": [
      "The Probability is  0.0008872418726979366\n"
     ]
    }
   ],
   "source": [
    "# probability that the stock price  will drop over 5% in a day\n",
    "dropPercent = 5\n",
    "prob_return1 = norm.cdf(-dropPercent/100, mu, sigma)\n",
    "print('The Probability is ', prob_return1)"
   ]
  },
  {
   "cell_type": "markdown",
   "metadata": {},
   "source": [
    "### Calculate the probability of the stock price will drop over a certain percentage in a year"
   ]
  },
  {
   "cell_type": "code",
   "execution_count": 15,
   "metadata": {},
   "outputs": [
    {
     "name": "stdout",
     "output_type": "stream",
     "text": [
      "The probability of dropping over 40% in 220 days is  0.004626639795744997\n"
     ]
    }
   ],
   "source": [
    "# drop over 40% in 220 days\n",
    "mu220 = 220*mu\n",
    "sigma220 = (220**0.5) * sigma\n",
    "print('The probability of dropping over 40% in 220 days is ', norm.cdf(-0.4, mu220, sigma220))"
   ]
  },
  {
   "cell_type": "markdown",
   "metadata": {},
   "source": [
    "### Calculate Value at risk (VaR)"
   ]
  },
  {
   "cell_type": "code",
   "execution_count": 16,
   "metadata": {},
   "outputs": [
    {
     "name": "stdout",
     "output_type": "stream",
     "text": [
      "Single day value at risk  -0.02581642732941682\n"
     ]
    }
   ],
   "source": [
    "# Value at risk(VaR)\n",
    "VaR = norm.ppf(0.05, mu, sigma)\n",
    "print('Single day value at risk ', VaR)"
   ]
  },
  {
   "cell_type": "code",
   "execution_count": 17,
   "metadata": {},
   "outputs": [
    {
     "name": "stdout",
     "output_type": "stream",
     "text": [
      "5% quantile  -0.02581642732941682\n",
      "95% quantile  0.027911461974694587\n"
     ]
    }
   ],
   "source": [
    "# Quatile \n",
    "# 5% quantile\n",
    "print('5% quantile ', norm.ppf(0.05, mu, sigma))\n",
    "# 95% quantile\n",
    "print('95% quantile ', norm.ppf(0.95, mu, sigma))"
   ]
  },
  {
   "cell_type": "markdown",
   "metadata": {},
   "source": [
    "### Estimate the average stock return with 90% Confidence Interval"
   ]
  },
  {
   "cell_type": "code",
   "execution_count": 20,
   "metadata": {},
   "outputs": [
    {
     "name": "stdout",
     "output_type": "stream",
     "text": [
      "90% confidence interval is  (0.0004185075875331078, 0.001676527057744673)\n"
     ]
    }
   ],
   "source": [
    "# using the log return computed earlier\n",
    "\n",
    "# Lets build 90% confidence interval for log return\n",
    "sample_size = stocks['LogReturn'].shape[0]\n",
    "sample_mean = stocks['LogReturn'].mean()\n",
    "sample_std = stocks['LogReturn'].std(ddof=1) / sample_size**0.5\n",
    "\n",
    "# left and right quantile\n",
    "z_left = norm.ppf(0.05)\n",
    "z_right = norm.ppf(0.95)\n",
    "\n",
    "# upper and lower bound\n",
    "interval_left = sample_mean+z_left*sample_std\n",
    "interval_right = sample_mean+z_right*sample_std\n",
    "\n",
    "# 90% confidence interval tells you that there will be 90% chance that the average stock return lies between \"interval_left\"\n",
    "# and \"interval_right\".\n",
    "\n",
    "print('90% confidence interval is ', (interval_left, interval_right))"
   ]
  },
  {
   "cell_type": "code",
   "execution_count": 21,
   "metadata": {},
   "outputs": [
    {
     "data": {
      "image/png": "[encoded data removed]",
      "text/plain": [
       "<Figure size 1440x576 with 1 Axes>"
      ]
     },
     "metadata": {
      "needs_background": "light"
     },
     "output_type": "display_data"
    }
   ],
   "source": [
    "# plotting the log rturn\n",
    "# Log return goes up and down during the period\n",
    "stocks['LogReturn'].plot(figsize=(20, 8))\n",
    "plt.axhline(0, color='red')\n",
    "plt.show()"
   ]
  },
  {
   "cell_type": "markdown",
   "metadata": {},
   "source": [
    "### Steps involved in testing a claim by hypothesis testing"
   ]
  },
  {
   "cell_type": "markdown",
   "metadata": {},
   "source": [
    "Step 1: Set hypothesis"
   ]
  },
  {
   "cell_type": "markdown",
   "metadata": {},
   "source": [
    "$H_0 : \\mu = 0$\n",
    "\n",
    "$H_a : \\mu \\neq 0$\n",
    "\n",
    "H0 means the average stock return is 0\n",
    "\n",
    "H1 means the average stock return is not equal to 0"
   ]
  },
  {
   "cell_type": "markdown",
   "metadata": {},
   "source": [
    "Step 2: Calculate test statistic"
   ]
  },
  {
   "cell_type": "code",
   "execution_count": 22,
   "metadata": {},
   "outputs": [
    {
     "name": "stdout",
     "output_type": "stream",
     "text": [
      "2.739246423820945\n"
     ]
    }
   ],
   "source": [
    "sample_mean = stocks['LogReturn'].mean()\n",
    "sample_std = stocks['LogReturn'].std(ddof=1)\n",
    "n = stocks['LogReturn'].shape[0]\n",
    "\n",
    "# if sample size n is large enough, we can use z-distribution, instead of t-distribtuion\n",
    "# mu = 0 under the null hypothesis\n",
    "zhat = (sample_mean - 0)/(sample_std/n**0.5)\n",
    "print(zhat)"
   ]
  },
  {
   "cell_type": "markdown",
   "metadata": {},
   "source": [
    "Step 3: Set decision criteria"
   ]
  },
  {
   "cell_type": "code",
   "execution_count": 23,
   "metadata": {},
   "outputs": [
    {
     "name": "stdout",
     "output_type": "stream",
     "text": [
      "-1.9599639845400545 1.9599639845400545\n"
     ]
    }
   ],
   "source": [
    "# confidence level\n",
    "alpha = 0.05\n",
    "\n",
    "zleft = norm.ppf(alpha/2, 0, 1)\n",
    "zright = -zleft  # z-distribution is symmetric \n",
    "print(zleft, zright)"
   ]
  },
  {
   "cell_type": "markdown",
   "metadata": {},
   "source": [
    "Step 4: Make decision - shall we reject H0?"
   ]
  },
  {
   "cell_type": "code",
   "execution_count": 24,
   "metadata": {},
   "outputs": [
    {
     "name": "stdout",
     "output_type": "stream",
     "text": [
      "At significant level of 0.05, we shall reject: True\n"
     ]
    }
   ],
   "source": [
    "print('At significant level of {}, we shall reject: {}'.format(alpha, zhat>zright or zhat<zleft))"
   ]
  },
  {
   "cell_type": "markdown",
   "metadata": {},
   "source": [
    "An alternative method: p-value"
   ]
  },
  {
   "cell_type": "markdown",
   "metadata": {},
   "source": [
    " the correct calculation of p-value is explained here in detail.\n",
    " \n",
    "\n",
    "If Ha: mu not equal 0, it is two tail test and p-value=2(1-norm.cdf(np.abs(z), 0, 1))\n",
    "\n",
    "if Ha: mu>0, it is upper tail test and p-value=1-norm.cdf(z,0,1)\n",
    "\n",
    "if Ha:mu<0, it is lower tail test and p-value=norm.cdf(z,0,1)"
   ]
  },
  {
   "cell_type": "code",
   "execution_count": 25,
   "metadata": {},
   "outputs": [
    {
     "name": "stdout",
     "output_type": "stream",
     "text": [
      "0.0030790098986240855\n"
     ]
    }
   ],
   "source": [
    "# step 3 (p-value)\n",
    "p = 1 - norm.cdf(zhat, 0, 1)\n",
    "print(p)"
   ]
  },
  {
   "cell_type": "code",
   "execution_count": 26,
   "metadata": {},
   "outputs": [
    {
     "name": "stdout",
     "output_type": "stream",
     "text": [
      "At significant level of 0.05, we shall reject: True\n"
     ]
    }
   ],
   "source": [
    "# step 4\n",
    "print('At significant level of {}, we shall reject: {}'.format(alpha, p < alpha))"
   ]
  },
  {
   "cell_type": "code",
   "execution_count": null,
   "metadata": {},
   "outputs": [],
   "source": []
  }
 ],
 "metadata": {
  "kernelspec": {
   "display_name": "Python 3",
   "language": "python",
   "name": "python3"
  },
  "language_info": {
   "codemirror_mode": {
    "name": "ipython",
    "version": 3
   },
   "file_extension": ".py",
   "mimetype": "text/x-python",
   "name": "python",
   "nbconvert_exporter": "python",
   "pygments_lexer": "ipython3",
   "version": "3.7.6"
  }
 },
 "nbformat": 4,
 "nbformat_minor": 4
}
