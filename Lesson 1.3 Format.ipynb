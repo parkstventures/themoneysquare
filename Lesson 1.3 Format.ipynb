{
 "cells": [
  {
   "cell_type": "markdown",
   "metadata": {},
   "source": [
    "## Formatting to print\n",
    "\n",
    "Park Street Ventures LLC\n",
    "\n",
    "Subu Raj\n",
    "\n",
    "May 2020\n",
    "\n",
    "- using Python’s string .format() method"
   ]
  },
  {
   "cell_type": "code",
   "execution_count": 1,
   "metadata": {},
   "outputs": [],
   "source": [
    "a = 2\n",
    "b = 3.233\n",
    "c = \"just a simple text\""
   ]
  },
  {
   "cell_type": "code",
   "execution_count": 8,
   "metadata": {},
   "outputs": [
    {
     "name": "stdout",
     "output_type": "stream",
     "text": [
      " 2\n",
      "3.23\n"
     ]
    }
   ],
   "source": [
    "print(\"{:2d}\".format(a))\n",
    "print(\"{:.2f}\".format(b))\n",
    "print(\"{:.2f}\".format(b))"
   ]
  },
  {
   "cell_type": "code",
   "execution_count": 11,
   "metadata": {},
   "outputs": [
    {
     "name": "stdout",
     "output_type": "stream",
     "text": [
      "just a simple text an integer 2 and a float 3.233\n"
     ]
    }
   ],
   "source": [
    "print('{0} an integer {1} and a float {2}'.format(c,a,b))"
   ]
  },
  {
   "cell_type": "code",
   "execution_count": 2,
   "metadata": {},
   "outputs": [
    {
     "name": "stdout",
     "output_type": "stream",
     "text": [
      "uid=sa\n"
     ]
    }
   ],
   "source": [
    "# string formatting\n",
    "k = \"uid\"\n",
    "v = \"sa\"\n",
    "print(\"%s=%s\" % (k, v))"
   ]
  },
  {
   "cell_type": "code",
   "execution_count": 4,
   "metadata": {},
   "outputs": [
    {
     "name": "stdout",
     "output_type": "stream",
     "text": [
      "secret is not a good password for sa\n"
     ]
    }
   ],
   "source": [
    "# another example\n",
    "uid = \"sa\"\n",
    "pwd = \"secret\"\n",
    "print (\"%s is not a good password for %s\" % (pwd, uid))"
   ]
  },
  {
   "cell_type": "code",
   "execution_count": null,
   "metadata": {},
   "outputs": [],
   "source": []
  }
 ],
 "metadata": {
  "kernelspec": {
   "display_name": "Python 3",
   "language": "python",
   "name": "python3"
  },
  "language_info": {
   "codemirror_mode": {
    "name": "ipython",
    "version": 3
   },
   "file_extension": ".py",
   "mimetype": "text/x-python",
   "name": "python",
   "nbconvert_exporter": "python",
   "pygments_lexer": "ipython3",
   "version": "3.7.6"
  }
 },
 "nbformat": 4,
 "nbformat_minor": 4
}
