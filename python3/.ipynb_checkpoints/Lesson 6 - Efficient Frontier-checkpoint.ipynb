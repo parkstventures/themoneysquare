{
 "cells": [
  {
   "cell_type": "markdown",
   "metadata": {},
   "source": [
    "# Efficient Frontier\n",
    "\n",
    "Park Street Ventures LLC\n",
    "\n",
    "Subu Sangameswar\n",
    "\n",
    "May 2020"
   ]
  },
  {
   "cell_type": "code",
   "execution_count": 1,
   "metadata": {},
   "outputs": [
    {
     "name": "stderr",
     "output_type": "stream",
     "text": [
      "/Users/sangames/opt/anaconda3/lib/python3.7/site-packages/pandas_datareader/compat/__init__.py:7: FutureWarning: pandas.util.testing is deprecated. Use the functions in the public API at pandas.testing instead.\n",
      "  from pandas.util.testing import assert_frame_equal\n"
     ]
    }
   ],
   "source": [
    "import pandas as pd\n",
    "import numpy as np\n",
    "import matplotlib.pyplot as plt\n",
    "import scipy.stats \n",
    "from pandas_datareader import data \n",
    "from datetime import datetime\n",
    "from scipy.optimize import minimize"
   ]
  },
  {
   "cell_type": "code",
   "execution_count": 2,
   "metadata": {},
   "outputs": [],
   "source": [
    "%load_ext autoreload\n",
    "%autoreload 2\n",
    "%matplotlib inline"
   ]
  },
  {
   "cell_type": "code",
   "execution_count": 4,
   "metadata": {},
   "outputs": [],
   "source": [
    "import PSVLib as lib"
   ]
  },
  {
   "cell_type": "code",
   "execution_count": 4,
   "metadata": {},
   "outputs": [],
   "source": [
    "# using seaborn style (type plt.style.available to see available styles)\n",
    "plt.style.use(\"seaborn-dark\")"
   ]
  },
  {
   "cell_type": "markdown",
   "metadata": {},
   "source": [
    "## Modern portfolio theory (MPT)\n",
    "\n",
    "The **Modern portfolio theory (MPT)** is a mathematical framework **for assembling a portfolio of assets such that the expected return is maximized for a given level of volatility**. It is a formalization of **diversification in investing**, i.e., the idea that owning different kinds of financial assets is less risky than owning only one assets. \n",
    "\n",
    "### Efficient Frontiers \n",
    "\n",
    "In the MPT, the **efficient frontier** is an a curve which occupies the **efficient** part of the **volatility-return plane**. \n",
    "Formally, it is the set of portfolios that can be constructed with the given input assets \n",
    "that have the maximum expected returns for a fixed level of volatility and, in turn, \n",
    "the lowest volatilities for a fixed level of expected return. The efficient frontier was first formulated by **Harry Markowitz** (1952).\n",
    "\n",
    "We have to construct a portfolio of several assets and **we want to find the optimal percentages of investment to be allocated in these assets** so that, for example, the total (expected) return of such a portfolio is maximixed for a given level of volatility. "
   ]
  },
  {
   "cell_type": "markdown",
   "metadata": {},
   "source": [
    "and we set up $6$ correlations of the two assets, and for every fixed correlation, \n",
    "we will generate $20$ portfolios by allocating $20$ pairs of weights:"
   ]
  },
  {
   "cell_type": "code",
   "execution_count": 5,
   "metadata": {},
   "outputs": [],
   "source": [
    "# get few stocks\n",
    "tickers  = ['AAPL','MSFT','SBUX']\n",
    "n_assets = len(tickers) \n",
    "\n",
    "stocks = pd.DataFrame()\n",
    "for stock_name in tickers:\n",
    "    # daily data\n",
    "    stocks[stock_name] = data.DataReader(stock_name, data_source=\"yahoo\", \n",
    "                                         start=datetime(2010,1,1), end=datetime(2020,4,15))[\"Adj Close\"]    "
   ]
  },
  {
   "cell_type": "code",
   "execution_count": 6,
   "metadata": {},
   "outputs": [
    {
     "data": {
      "text/html": [
       "<div>\n",
       "<style scoped>\n",
       "    .dataframe tbody tr th:only-of-type {\n",
       "        vertical-align: middle;\n",
       "    }\n",
       "\n",
       "    .dataframe tbody tr th {\n",
       "        vertical-align: top;\n",
       "    }\n",
       "\n",
       "    .dataframe thead th {\n",
       "        text-align: right;\n",
       "    }\n",
       "</style>\n",
       "<table border=\"1\" class=\"dataframe\">\n",
       "  <thead>\n",
       "    <tr style=\"text-align: right;\">\n",
       "      <th></th>\n",
       "      <th>AAPL</th>\n",
       "      <th>MSFT</th>\n",
       "      <th>SBUX</th>\n",
       "    </tr>\n",
       "    <tr>\n",
       "      <th>Date</th>\n",
       "      <th></th>\n",
       "      <th></th>\n",
       "      <th></th>\n",
       "    </tr>\n",
       "  </thead>\n",
       "  <tbody>\n",
       "    <tr>\n",
       "      <th>2020-04-08</th>\n",
       "      <td>266.070007</td>\n",
       "      <td>165.130005</td>\n",
       "      <td>71.570000</td>\n",
       "    </tr>\n",
       "    <tr>\n",
       "      <th>2020-04-09</th>\n",
       "      <td>267.989990</td>\n",
       "      <td>165.139999</td>\n",
       "      <td>73.879997</td>\n",
       "    </tr>\n",
       "    <tr>\n",
       "      <th>2020-04-13</th>\n",
       "      <td>273.250000</td>\n",
       "      <td>165.509995</td>\n",
       "      <td>71.760002</td>\n",
       "    </tr>\n",
       "    <tr>\n",
       "      <th>2020-04-14</th>\n",
       "      <td>287.049988</td>\n",
       "      <td>173.699997</td>\n",
       "      <td>73.669998</td>\n",
       "    </tr>\n",
       "    <tr>\n",
       "      <th>2020-04-15</th>\n",
       "      <td>284.429993</td>\n",
       "      <td>171.880005</td>\n",
       "      <td>72.550003</td>\n",
       "    </tr>\n",
       "  </tbody>\n",
       "</table>\n",
       "</div>"
      ],
      "text/plain": [
       "                  AAPL        MSFT       SBUX\n",
       "Date                                         \n",
       "2020-04-08  266.070007  165.130005  71.570000\n",
       "2020-04-09  267.989990  165.139999  73.879997\n",
       "2020-04-13  273.250000  165.509995  71.760002\n",
       "2020-04-14  287.049988  173.699997  73.669998\n",
       "2020-04-15  284.429993  171.880005  72.550003"
      ]
     },
     "execution_count": 6,
     "metadata": {},
     "output_type": "execute_result"
    }
   ],
   "source": [
    "stocks.tail()"
   ]
  },
  {
   "cell_type": "code",
   "execution_count": 7,
   "metadata": {},
   "outputs": [
    {
     "data": {
      "text/html": [
       "<div>\n",
       "<style scoped>\n",
       "    .dataframe tbody tr th:only-of-type {\n",
       "        vertical-align: middle;\n",
       "    }\n",
       "\n",
       "    .dataframe tbody tr th {\n",
       "        vertical-align: top;\n",
       "    }\n",
       "\n",
       "    .dataframe thead th {\n",
       "        text-align: right;\n",
       "    }\n",
       "</style>\n",
       "<table border=\"1\" class=\"dataframe\">\n",
       "  <thead>\n",
       "    <tr style=\"text-align: right;\">\n",
       "      <th></th>\n",
       "      <th>AAPL</th>\n",
       "      <th>MSFT</th>\n",
       "      <th>SBUX</th>\n",
       "    </tr>\n",
       "    <tr>\n",
       "      <th>Date</th>\n",
       "      <th></th>\n",
       "      <th></th>\n",
       "      <th></th>\n",
       "    </tr>\n",
       "  </thead>\n",
       "  <tbody>\n",
       "    <tr>\n",
       "      <th>2020-04-08</th>\n",
       "      <td>0.025595</td>\n",
       "      <td>0.010031</td>\n",
       "      <td>0.041624</td>\n",
       "    </tr>\n",
       "    <tr>\n",
       "      <th>2020-04-09</th>\n",
       "      <td>0.007216</td>\n",
       "      <td>0.000061</td>\n",
       "      <td>0.032276</td>\n",
       "    </tr>\n",
       "    <tr>\n",
       "      <th>2020-04-13</th>\n",
       "      <td>0.019628</td>\n",
       "      <td>0.002240</td>\n",
       "      <td>-0.028695</td>\n",
       "    </tr>\n",
       "    <tr>\n",
       "      <th>2020-04-14</th>\n",
       "      <td>0.050503</td>\n",
       "      <td>0.049483</td>\n",
       "      <td>0.026616</td>\n",
       "    </tr>\n",
       "    <tr>\n",
       "      <th>2020-04-15</th>\n",
       "      <td>-0.009127</td>\n",
       "      <td>-0.010478</td>\n",
       "      <td>-0.015203</td>\n",
       "    </tr>\n",
       "  </tbody>\n",
       "</table>\n",
       "</div>"
      ],
      "text/plain": [
       "                AAPL      MSFT      SBUX\n",
       "Date                                    \n",
       "2020-04-08  0.025595  0.010031  0.041624\n",
       "2020-04-09  0.007216  0.000061  0.032276\n",
       "2020-04-13  0.019628  0.002240 -0.028695\n",
       "2020-04-14  0.050503  0.049483  0.026616\n",
       "2020-04-15 -0.009127 -0.010478 -0.015203"
      ]
     },
     "execution_count": 7,
     "metadata": {},
     "output_type": "execute_result"
    }
   ],
   "source": [
    "# compute the daily returns \n",
    "daily_rets = lib.compute_returns(stocks)\n",
    "daily_rets.tail()"
   ]
  },
  {
   "cell_type": "code",
   "execution_count": 8,
   "metadata": {},
   "outputs": [
    {
     "data": {
      "text/html": [
       "<div>\n",
       "<style scoped>\n",
       "    .dataframe tbody tr th:only-of-type {\n",
       "        vertical-align: middle;\n",
       "    }\n",
       "\n",
       "    .dataframe tbody tr th {\n",
       "        vertical-align: top;\n",
       "    }\n",
       "\n",
       "    .dataframe thead th {\n",
       "        text-align: right;\n",
       "    }\n",
       "</style>\n",
       "<table border=\"1\" class=\"dataframe\">\n",
       "  <thead>\n",
       "    <tr style=\"text-align: right;\">\n",
       "      <th></th>\n",
       "      <th>AAPL</th>\n",
       "      <th>MSFT</th>\n",
       "      <th>SBUX</th>\n",
       "    </tr>\n",
       "  </thead>\n",
       "  <tbody>\n",
       "    <tr>\n",
       "      <th>AAPL</th>\n",
       "      <td>0.000303</td>\n",
       "      <td>0.000148</td>\n",
       "      <td>0.000127</td>\n",
       "    </tr>\n",
       "    <tr>\n",
       "      <th>MSFT</th>\n",
       "      <td>0.000148</td>\n",
       "      <td>0.000248</td>\n",
       "      <td>0.000133</td>\n",
       "    </tr>\n",
       "    <tr>\n",
       "      <th>SBUX</th>\n",
       "      <td>0.000127</td>\n",
       "      <td>0.000133</td>\n",
       "      <td>0.000269</td>\n",
       "    </tr>\n",
       "  </tbody>\n",
       "</table>\n",
       "</div>"
      ],
      "text/plain": [
       "          AAPL      MSFT      SBUX\n",
       "AAPL  0.000303  0.000148  0.000127\n",
       "MSFT  0.000148  0.000248  0.000133\n",
       "SBUX  0.000127  0.000133  0.000269"
      ]
     },
     "execution_count": 8,
     "metadata": {},
     "output_type": "execute_result"
    }
   ],
   "source": [
    "# compute the mean daily returns and the covariance of daily returns of the two assets\n",
    "mean_rets = daily_rets.mean()\n",
    "std_rets  = daily_rets.std()\n",
    "cov_rets  = daily_rets.cov()\n",
    "cov_rets"
   ]
  },
  {
   "cell_type": "markdown",
   "metadata": {},
   "source": [
    "Now we simulate $1000$ portfolios with weights allocated to the stocks above:"
   ]
  },
  {
   "cell_type": "code",
   "execution_count": 9,
   "metadata": {},
   "outputs": [],
   "source": [
    "periods_per_year = 252\n",
    "num_portfolios   = 1000\n",
    "portfolios       = pd.DataFrame(columns=[\"return\",\"volatility\",\"sharpe ratio\",\"w1\",\"w2\",\"w3\"])\n",
    "risk_free_rate   = 0"
   ]
  },
  {
   "cell_type": "code",
   "execution_count": 10,
   "metadata": {},
   "outputs": [],
   "source": [
    "for i in range(num_portfolios):\n",
    "    # select random weights\n",
    "    weights = np.random.random(n_assets)\n",
    "    # and rescale them to sum to 1\n",
    "    weights /= np.sum(weights)\n",
    "    \n",
    "    # annualized portfolio returns\n",
    "    ann_rets      = lib.annualize_rets(daily_rets, periods_per_year)\n",
    "    portfolio_ret = lib.portfolio_return(weights, ann_rets)        \n",
    "\n",
    "    # annualized portfolio volatility\n",
    "    portfolio_vol = lib.portfolio_volatility(weights, cov_rets)\n",
    "    portfolio_vol = lib.annualize_vol(portfolio_vol, periods_per_year)\n",
    "\n",
    "    # annualized portfolio sharpe ratio\n",
    "    portfolio_spr = lib.sharpe_ratio(portfolio_ret, risk_free_rate, periods_per_year, v=portfolio_vol)\n",
    "    \n",
    "    # create dataframe   \n",
    "    portfolios = portfolios.append( {\"return\":portfolio_ret, \n",
    "                                     \"volatility\":portfolio_vol, \n",
    "                                     \"sharpe ratio\":portfolio_spr, \n",
    "                                     \"w1\": weights[0], \"w2\": weights[1], \"w3\": weights[2]}, \n",
    "                                     ignore_index=True)"
   ]
  },
  {
   "cell_type": "markdown",
   "metadata": {},
   "source": [
    "Now we create a scatter plot coloured by sharpe ratios of the portfolios generated above and we also plot the efficient frontier:"
   ]
  },
  {
   "cell_type": "code",
   "execution_count": 11,
   "metadata": {},
   "outputs": [
    {
     "data": {
      "image/png": "[encoded data removed]",
      "text/plain": [
       "<Figure size 720x432 with 2 Axes>"
      ]
     },
     "metadata": {
      "needs_background": "light"
     },
     "output_type": "display_data"
    }
   ],
   "source": [
    "fig, ax = plt.subplots(1,1, figsize=(10,6)) \n",
    "\n",
    "im = ax.scatter(portfolios[\"volatility\"], portfolios[\"return\"], c=portfolios[\"sharpe ratio\"], s=20, edgecolor=None, cmap='RdYlBu')\n",
    "ax.set_title(\"Portfolios and efficient frontier\")\n",
    "ax.set_xlabel(\"volatility\")\n",
    "ax.set_ylabel(\"return\")\n",
    "ax.grid()\n",
    "\n",
    "# Draw the efficient frontier\n",
    "df = lib.efficient_frontier(50, daily_rets, cov_rets, periods_per_year)\n",
    "df.plot.line(x=\"volatility\", y=\"return\", style=\"--\", color=\"coral\", ax=ax, grid=True, label=\"Efficient frontier\")\n",
    "ax.set_xlim([0.125,0.33])\n",
    "\n",
    "fig.colorbar(im, ax=ax)\n",
    "plt.show()"
   ]
  },
  {
   "cell_type": "markdown",
   "metadata": {},
   "source": [
    "**We will come back to the plot of the efficient frontier below**.\n",
    "\n",
    "We can see that if the investor is targeting **a return of $20\\%$** he could simply hold \n",
    "a portfolio **with volatility of about $17.5\\%$**, although there are many other portfolios that \n",
    "can guarantee the same return but with much higher volatilities such as $22.5\\%$. \n",
    "It is clear that one should carefully choose the weights of the portfolio. \n",
    "\n",
    "We can see, in particular, that there are **two important** portfolios:\n",
    "\n",
    "1. the **portfolio with the Global Minimum Volatility (GMV)**, i.e., the global minimum variance portfolio\n",
    "2. the **portfolio with the Maximum Sharpe Ratio (MSR)**.\n",
    "\n",
    "From the code above we can easily locate these two portfolios in our dataframe by looking at the lowest volatility and highest sharpe ratio \n",
    "and and recover the corresponding weights that have been stored."
   ]
  },
  {
   "cell_type": "code",
   "execution_count": 12,
   "metadata": {},
   "outputs": [
    {
     "name": "stdout",
     "output_type": "stream",
     "text": [
      "Global Minimum Volatility portfolio:\n",
      "- return      : 22.49%\n",
      "- volatility  : 21.35%\n",
      "- sharpe ratio: 1.05\n",
      "\\Maximum Sharpe Ratio portfolio:\n",
      "- return      : 23.36%\n",
      "- volatility  : 21.77%\n",
      "- sharpe ratio: 1.07\n"
     ]
    }
   ],
   "source": [
    "# find the portfolio with lowest volatility \n",
    "low_vol_portfolio = portfolios.iloc[ portfolios['volatility'].idxmin() ]\n",
    "print(\"Global Minimum Volatility portfolio:\")\n",
    "print(\"- return      : {:.2f}%\".format(low_vol_portfolio[0]*100) )\n",
    "print(\"- volatility  : {:.2f}%\".format(low_vol_portfolio[1]*100) )\n",
    "print(\"- sharpe ratio: {:.2f}\".format(low_vol_portfolio[2]) )\n",
    "\n",
    "# find the portfolio with highest sharpe ratio\n",
    "high_sharpe_portfolio = portfolios.iloc[ portfolios['sharpe ratio'].idxmax() ]\n",
    "print(\"\\Maximum Sharpe Ratio portfolio:\")\n",
    "print(\"- return      : {:.2f}%\".format(high_sharpe_portfolio[0]*100) )\n",
    "print(\"- volatility  : {:.2f}%\".format(high_sharpe_portfolio[1]*100) )\n",
    "print(\"- sharpe ratio: {:.2f}\".format(high_sharpe_portfolio[2]) )"
   ]
  },
  {
   "cell_type": "code",
   "execution_count": 13,
   "metadata": {},
   "outputs": [
    {
     "data": {
      "image/png": "[encoded data removed]",
      "text/plain": [
       "<Figure size 720x432 with 2 Axes>"
      ]
     },
     "metadata": {
      "needs_background": "light"
     },
     "output_type": "display_data"
    }
   ],
   "source": [
    "fig, ax = plt.subplots(1,1, figsize=(10,6)) \n",
    "\n",
    "im = ax.scatter(portfolios[\"volatility\"], portfolios[\"return\"], c=portfolios[\"sharpe ratio\"], s=20, edgecolor=None, label=None, cmap='RdYlBu')\n",
    "ax.set_title(\"Portfolios and efficient frontier\")\n",
    "ax.set_xlabel(\"volatility\")\n",
    "ax.set_ylabel(\"return\")\n",
    "ax.grid()\n",
    "\n",
    "# Draw the efficient frontier\n",
    "df.plot.line(x=\"volatility\", y=\"return\", style=\"--\", color=\"coral\", ax=ax, grid=True, label=\"Efficient frontier\")\n",
    "\n",
    "ax.scatter(low_vol_portfolio[1],     low_vol_portfolio[0],     marker=\"X\", color='g', s=120, label=\"GMV portfolio\")\n",
    "ax.scatter(high_sharpe_portfolio[1], high_sharpe_portfolio[0], marker=\"X\", color='r', s=120, label=\"MSR portfolio\")\n",
    "\n",
    "ax.set_xlim([0.125,0.33])\n",
    "ax.legend()\n",
    "\n",
    "fig.colorbar(im, ax=ax)\n",
    "plt.show()"
   ]
  },
  {
   "cell_type": "code",
   "execution_count": 36,
   "metadata": {},
   "outputs": [],
   "source": [
    "# utility function\n",
    "\n",
    "def get_portfolio_features(weights, rets, covmat, risk_free_rate, periods_per_year):\n",
    "    # portfolio volatility\n",
    "    vol = lib.portfolio_volatility(weights, covmat)\n",
    "    vol = lib.annualize_vol(vol, periods_per_year)\n",
    "\n",
    "    # portfolio return\n",
    "    ret = lib.portfolio_return(weights, rets)\n",
    "\n",
    "    # portfolio sharpe ratio\n",
    "    shp = lib.sharpe_ratio(ret, risk_free_rate, periods_per_year, v=vol)\n",
    "\n",
    "    print(\"Portfolio return:       {:.2f}%\" .format(ret*100))\n",
    "    print(\"Portfolio volatility:   {:.2f}%\" .format(vol*100))\n",
    "    print(\"Portfolio sharpe ratio: {:.2f}\" .format(shp))\n",
    "    \n",
    "    return ret, vol, shp\n",
    "\n",
    "def print_weights(tickers, weights):\n",
    "    print(\"optimal weights:\")\n",
    "    for i in range(len(tickers)):\n",
    "        print(\"{0} :{1:.2f}%\".format(tickers[i], weights[i]*100))"
   ]
  },
  {
   "cell_type": "markdown",
   "metadata": {},
   "source": [
    "### Finding the optimal portfolios: minimizing the volatility \n",
    "\n",
    "In the experiments above, we found the optimal portfolios, i.e., the ones on the efficient frontier, by **simulating a high number of portfolios** and then plotting them. From the plot we could see what the efficient frontier looked like. \n",
    "However, we can find an optimal portfolio on the efficient frontier by **solving a minimization problem**, \n",
    "for example, by applying the **scipy optimize** method. \n",
    "\n",
    "\n",
    "For example, suppose we want to **find the portfolio (on the efficient frontier) which has the minimum volatility**. \n",
    "Then the minimization problem is:\n",
    "$$\n",
    "\\text{minimize} \\;\\; \\frac{1}{2} \\mathbf{w}^T\\Sigma\\mathbf{w}, \n",
    "$$\n",
    "subject to \n",
    "$$\n",
    "\\begin{cases}\n",
    "\\mathbf{w}^T \\mathbf{1} = 1, \\\\\n",
    "0 \\leq \\mathbf{w} \\leq 1.\n",
    "\\end{cases}\n",
    "$$"
   ]
  },
  {
   "cell_type": "code",
   "execution_count": 15,
   "metadata": {},
   "outputs": [
    {
     "data": {
      "text/plain": [
       "AAPL    0.259805\n",
       "MSFT    0.209872\n",
       "SBUX    0.215395\n",
       "dtype: float64"
      ]
     },
     "execution_count": 15,
     "metadata": {},
     "output_type": "execute_result"
    }
   ],
   "source": [
    "# Let us see the total (annual) returns of single companies we are investing in\n",
    "ann_rets = lib.annualize_rets(daily_rets, periods_per_year)\n",
    "ann_rets"
   ]
  },
  {
   "cell_type": "markdown",
   "metadata": {},
   "source": [
    "Now, we can call our minimizer which solves the minimization problem of finding the weights of the portfolio with minimum volatility. "
   ]
  },
  {
   "cell_type": "code",
   "execution_count": 38,
   "metadata": {},
   "outputs": [
    {
     "name": "stdout",
     "output_type": "stream",
     "text": [
      "optimal weights:\n",
      "AAPL :33.33%\n",
      "MSFT :33.33%\n",
      "SBUX :33.33%\n"
     ]
    }
   ],
   "source": [
    "optimal_weights = lib.minimize_volatility(ann_rets, cov_rets)\n",
    "print_weights(tickers, optimal_weights)"
   ]
  },
  {
   "cell_type": "markdown",
   "metadata": {},
   "source": [
    "Let us compute the volatility of the portfolio constructed with these weights and locate it on the efficient frontier:"
   ]
  },
  {
   "cell_type": "code",
   "execution_count": 17,
   "metadata": {},
   "outputs": [
    {
     "name": "stdout",
     "output_type": "stream",
     "text": [
      "Portfolio return:       22.84%\n",
      "Portfolio volatility:   21.42%\n",
      "Portfolio sharpe ratio: 1.07\n"
     ]
    },
    {
     "data": {
      "image/png": "[encoded data removed]",
      "text/plain": [
       "<Figure size 576x288 with 1 Axes>"
      ]
     },
     "metadata": {
      "needs_background": "light"
     },
     "output_type": "display_data"
    }
   ],
   "source": [
    "ret, vol, shp = get_portfolio_features(optimal_weights, ann_rets, cov_rets, risk_free_rate, periods_per_year)\n",
    "\n",
    "# Draw the efficient frontier\n",
    "fig, ax = plt.subplots(1,1, figsize=(8,4)) \n",
    "df = lib.efficient_frontier(50, daily_rets, cov_rets, periods_per_year)\n",
    "df.plot.line(x=\"volatility\", y=\"return\", style=\"--\", color=\"coral\", ax=ax, grid=True, label=\"Efficient frontier\")\n",
    "ax.scatter(vol, ret,  marker=\"X\", color='g', s=120, label=\"GMV portfolio\")\n",
    "ax.set_xlim([0.13,0.33])\n",
    "ax.legend()\n",
    "ax.set_title(\"Minimum volatility portfolio\")\n",
    "plt.show()"
   ]
  },
  {
   "cell_type": "markdown",
   "metadata": {},
   "source": [
    "We can also verify that the minimum volatility portfolio obtained by solving the minimization problem almost coincides \n",
    "with the one obtained from simulating a high number of portfolios as we have done before: "
   ]
  },
  {
   "cell_type": "code",
   "execution_count": 18,
   "metadata": {},
   "outputs": [
    {
     "name": "stdout",
     "output_type": "stream",
     "text": [
      "GMV portfolio:\n",
      "\n",
      "- Monte carlo:\n",
      "  return:       22.49%\n",
      "  volatility:   21.35%\n",
      "  sharpe ratio: 1.05\n",
      "\n",
      "- Minimization problem:\n",
      "  return:       22.84%\n",
      "  volatility:   21.42%\n",
      "  sharpe ratio: 1.07\n"
     ]
    }
   ],
   "source": [
    "print(\"GMV portfolio:\\n\")\n",
    "print(\"- Monte carlo:\")\n",
    "print(\"  return:       {:.2f}%\" .format(low_vol_portfolio[0]*100))\n",
    "print(\"  volatility:   {:.2f}%\" .format(low_vol_portfolio[1]*100))\n",
    "print(\"  sharpe ratio: {:.2f}\" .format(low_vol_portfolio[2]))\n",
    "print(\"\\n- Minimization problem:\")\n",
    "print(\"  return:       {:.2f}%\" .format(ret*100))\n",
    "print(\"  volatility:   {:.2f}%\" .format(vol*100))\n",
    "print(\"  sharpe ratio: {:.2f}\" .format(shp))"
   ]
  },
  {
   "cell_type": "markdown",
   "metadata": {},
   "source": [
    "#### Finding the optimal portfolios: minimizing the volatility given a fixed return\n",
    "\n",
    "What if we want to find the **portfolio (on the efficient frontier) with minimium volatility for a given a level of return**? \n",
    "In this case, we simply have to add a constrain in the minimization problem:\n",
    "$$\n",
    "\\text{minimize} \\;\\; \\frac{1}{2} \\mathbf{w}^T\\Sigma\\mathbf{w}, \n",
    "$$\n",
    "subject to \n",
    "$$\n",
    "\\begin{cases}\n",
    "\\mathbf{w}^T \\mathbf{R} = R_0, \\\\\n",
    "\\mathbf{w}^T \\mathbf{1} = 1, \\\\\n",
    "0 \\leq \\mathbf{w} \\leq 1.\n",
    "\\end{cases}\n",
    "$$\n",
    "where $R_0$ denotes a fixed level of expected return. For example, suppose we target the following total expected return $R_0=16\\%$:"
   ]
  },
  {
   "cell_type": "code",
   "execution_count": 20,
   "metadata": {},
   "outputs": [],
   "source": [
    "target_return = 0.16"
   ]
  },
  {
   "cell_type": "markdown",
   "metadata": {},
   "source": [
    "Now, we can call again the minimizer with the option of solving the problem with the constrain for the given target return:"
   ]
  },
  {
   "cell_type": "code",
   "execution_count": 39,
   "metadata": {},
   "outputs": [
    {
     "name": "stdout",
     "output_type": "stream",
     "text": [
      "optimal weights:\n",
      "AAPL :0.00%\n",
      "MSFT :100.00%\n",
      "SBUX :0.00%\n"
     ]
    }
   ],
   "source": [
    "optimal_weights = lib.minimize_volatility(ann_rets, cov_rets, target_return)\n",
    "print_weights(tickers, optimal_weights)"
   ]
  },
  {
   "cell_type": "markdown",
   "metadata": {},
   "source": [
    "Let us compute the volatility of the portfolio constructed with these weights. \n",
    "Also, we double check that the corresponding return is the target return that we have chosen (i.e., $16\\%$) and \n",
    "locate the portfolio on the efficient frontier:"
   ]
  },
  {
   "cell_type": "code",
   "execution_count": 22,
   "metadata": {},
   "outputs": [
    {
     "name": "stdout",
     "output_type": "stream",
     "text": [
      "Portfolio return:       20.99%\n",
      "Portfolio volatility:   25.02%\n",
      "Portfolio sharpe ratio: 0.84\n"
     ]
    },
    {
     "data": {
      "image/png": "[encoded data removed]",
      "text/plain": [
       "<Figure size 576x288 with 1 Axes>"
      ]
     },
     "metadata": {
      "needs_background": "light"
     },
     "output_type": "display_data"
    }
   ],
   "source": [
    "ret, vol, shp = get_portfolio_features(optimal_weights, ann_rets, cov_rets, risk_free_rate, periods_per_year)\n",
    "\n",
    "# Draw the efficient frontier\n",
    "fig, ax = plt.subplots(1,1, figsize=(8,4)) \n",
    "df = lib.efficient_frontier(50, daily_rets, cov_rets, periods_per_year)\n",
    "df.plot.line(x=\"volatility\", y=\"return\", style=\"--\", color=\"coral\", ax=ax, grid=True, label=\"Efficient frontier\")\n",
    "ax.scatter(vol, target_return,  marker=\"X\", color='g', s=120, label=\"min. volatility port.\")\n",
    "ax.set_xlim([0.13,0.33])\n",
    "ax.legend()\n",
    "ax.set_title(\"Minimum Volatility portfolio for given return of $16\\%$\")\n",
    "plt.show()"
   ]
  },
  {
   "cell_type": "markdown",
   "metadata": {},
   "source": [
    "Recall that **the return of a portfolio will be some value between the minimum and the maximum return from the assets composing the portfolio**. That is, given the same three companies, we cannot achieve a return of, say $40\\%$ since the maximum return achievable is about $30\\%$ from Amazon. \n",
    "In fact, if we run the minimizer with a target return equal to $40\\%$ we will get zero weights to all assets but Amazon:"
   ]
  },
  {
   "cell_type": "code",
   "execution_count": 40,
   "metadata": {},
   "outputs": [
    {
     "name": "stdout",
     "output_type": "stream",
     "text": [
      "optimal weights:\n",
      "AAPL :100.00%\n",
      "MSFT :0.00%\n",
      "SBUX :0.00%\n"
     ]
    }
   ],
   "source": [
    "optimal_weights = lib.minimize_volatility(ann_rets, cov_rets, 0.4)\n",
    "print_weights(tickers, optimal_weights)"
   ]
  },
  {
   "cell_type": "markdown",
   "metadata": {},
   "source": [
    "### Finding the optimal portfolios: maximizing the sharpe ratio \n",
    "\n",
    "Now, consider the case of finding **the portfolio (on the efficient frontier) with the highest sharpe ratio**. \n",
    "\n",
    "Note that scipy offers a **minimize** method, but no a **maximize** a method, and we may then conclude \n",
    "that we are not able to find such a portfolio by solving an optimization problem. \n",
    "However, **the maximization of the sharpe ratio is nothing but the minimization of the negative sharpe ratio**. \n",
    "That is, we have \n",
    "$$\n",
    "\\text{minimize} \\;\\; -  \\frac{R_p - r_f}{\\sigma_p} =: \\text{SR} \n",
    "$$\n",
    "subject to \n",
    "$$\n",
    "\\begin{cases}\n",
    "\\mathbf{w}^T \\mathbf{1} = 1, \\\\\n",
    "0 \\leq \\mathbf{w} \\leq 1.\n",
    "\\end{cases}\n",
    "$$\n",
    "\n",
    "Let us use our minimizer:"
   ]
  },
  {
   "cell_type": "code",
   "execution_count": 41,
   "metadata": {},
   "outputs": [
    {
     "name": "stdout",
     "output_type": "stream",
     "text": [
      "optimal weights:\n",
      "AAPL :50.00%\n",
      "MSFT :20.60%\n",
      "SBUX :29.39%\n"
     ]
    }
   ],
   "source": [
    "optimal_weights = lib.maximize_shape_ratio(ann_rets, cov_rets, risk_free_rate, periods_per_year)\n",
    "print_weights(tickers, optimal_weights)"
   ]
  },
  {
   "cell_type": "code",
   "execution_count": 25,
   "metadata": {},
   "outputs": [
    {
     "name": "stdout",
     "output_type": "stream",
     "text": [
      "Portfolio return:       23.33%\n",
      "Portfolio volatility:   21.75%\n",
      "Portfolio sharpe ratio: 1.07\n"
     ]
    },
    {
     "data": {
      "image/png": "[encoded data removed]",
      "text/plain": [
       "<Figure size 576x288 with 1 Axes>"
      ]
     },
     "metadata": {
      "needs_background": "light"
     },
     "output_type": "display_data"
    }
   ],
   "source": [
    "ret, vol, shp = get_portfolio_features(optimal_weights, ann_rets, cov_rets, risk_free_rate, periods_per_year)\n",
    "\n",
    "# Draw the efficient frontier\n",
    "fig, ax = plt.subplots(1,1, figsize=(8,4)) \n",
    "df = lib.efficient_frontier(50, daily_rets, cov_rets, periods_per_year)\n",
    "df.plot.line(x=\"volatility\", y=\"return\", style=\"--\", color=\"coral\", ax=ax, grid=True, label=\"Efficient frontier\")\n",
    "ax.scatter(vol, ret,  marker=\"X\", color='r', s=120, label=\"highest sharpe ratio port.\")\n",
    "ax.set_xlim([0.13,0.33])\n",
    "ax.legend()\n",
    "ax.set_title(\"Maximum Sharpe Ratio portfolio (SR={:.2f})\".format(shp))\n",
    "plt.show()"
   ]
  },
  {
   "cell_type": "markdown",
   "metadata": {},
   "source": [
    "and let us see how these numbers differ from those obtained from the Monte Carlo simulation:"
   ]
  },
  {
   "cell_type": "code",
   "execution_count": 26,
   "metadata": {},
   "outputs": [
    {
     "name": "stdout",
     "output_type": "stream",
     "text": [
      "MSR portfolio:\n",
      "\n",
      "- Monte carlo:\n",
      "  return:       23.36%\n",
      "  volatility:   21.77%\n",
      "  sharpe ratio: 1.07\n",
      "\n",
      "- Minimization problem:\n",
      "  return:       23.33%\n",
      "  volatility:   21.75%\n",
      "  sharpe ratio: 1.07\n"
     ]
    }
   ],
   "source": [
    "print(\"MSR portfolio:\\n\")\n",
    "print(\"- Monte carlo:\")\n",
    "print(\"  return:       {:.2f}%\" .format(high_sharpe_portfolio[0]*100))\n",
    "print(\"  volatility:   {:.2f}%\" .format(high_sharpe_portfolio[1]*100))\n",
    "print(\"  sharpe ratio: {:.2f}\" .format(high_sharpe_portfolio[2]))\n",
    "print(\"\\n- Minimization problem:\")\n",
    "print(\"  return:       {:.2f}%\" .format(ret*100))\n",
    "print(\"  volatility:   {:.2f}%\" .format(vol*100))\n",
    "print(\"  sharpe ratio: {:.2f}\" .format(shp))"
   ]
  },
  {
   "cell_type": "markdown",
   "metadata": {},
   "source": [
    "#### Finding the optimal portfolios: maximize the sharpe ratio given a fixed volatility \n",
    "\n",
    "Similarly to what we have done before, we can find the **portfolio (on the efficient frontier) with highest sharpe ratio \n",
    "for a given a level of volatility**. In this case, we simply add a constrain in the minimization problem:\n",
    "$$\n",
    "\\text{minimize} \\;\\; -  \\frac{R_p - r_f}{\\sigma_p} =: \\text{SR} \n",
    "$$\n",
    "subject to \n",
    "$$\n",
    "\\begin{cases}\n",
    "\\frac{1}{2} \\mathbf{w}^T\\Sigma\\mathbf{w} = \\sigma_0, \\\\\n",
    "\\mathbf{w}^T \\mathbf{1} = 1, \\\\\n",
    "0 \\leq \\mathbf{w} \\leq 1.\n",
    "\\end{cases}\n",
    "$$\n",
    "where $\\sigma_0$ denotes a fixed level of volatility. For example, suppose we target the following total volatility of $\\sigma_0=20\\%$:"
   ]
  },
  {
   "cell_type": "code",
   "execution_count": 42,
   "metadata": {},
   "outputs": [
    {
     "name": "stdout",
     "output_type": "stream",
     "text": [
      "optimal weights:\n",
      "AAPL :25.97%\n",
      "MSFT :37.96%\n",
      "SBUX :36.07%\n"
     ]
    }
   ],
   "source": [
    "target_volatility = 0.2\n",
    "optimal_weights = lib.maximize_shape_ratio(ann_rets, cov_rets, risk_free_rate, periods_per_year, target_volatility)\n",
    "print_weights(tickers, optimal_weights)"
   ]
  },
  {
   "cell_type": "code",
   "execution_count": 29,
   "metadata": {},
   "outputs": [
    {
     "name": "stdout",
     "output_type": "stream",
     "text": [
      "Portfolio return:       22.48%\n",
      "Portfolio volatility:   21.35%\n",
      "Portfolio sharpe ratio: 1.05\n"
     ]
    },
    {
     "data": {
      "image/png": "[encoded data removed]",
      "text/plain": [
       "<Figure size 576x288 with 1 Axes>"
      ]
     },
     "metadata": {
      "needs_background": "light"
     },
     "output_type": "display_data"
    }
   ],
   "source": [
    "ret, vol, shp = get_portfolio_features(optimal_weights, ann_rets, cov_rets, risk_free_rate, periods_per_year)\n",
    "\n",
    "# Draw the efficient frontier\n",
    "fig, ax = plt.subplots(1,1, figsize=(8,4)) \n",
    "df = lib.efficient_frontier(50, daily_rets, cov_rets, periods_per_year)\n",
    "df.plot.line(x=\"volatility\", y=\"return\", style=\"--\", color=\"coral\", ax=ax, grid=True, label=\"Efficient frontier\")\n",
    "ax.scatter(vol, ret,  marker=\"X\", color='r', s=120, label=\"highes sharpe ratio port.\")\n",
    "ax.set_xlim([0.13,0.33])\n",
    "ax.legend()\n",
    "ax.set_title(\"Maximum Sharpe Ratio portfolio for given volatility of $20\\%$ (SR={:.2f})\".format(shp))\n",
    "plt.show()"
   ]
  },
  {
   "cell_type": "markdown",
   "metadata": {},
   "source": [
    "### Observation on constraints\n",
    "\n",
    "It is worth mentioning that so far we have decided to invest all of our capital and, at the same time, our strategy has been **long-only**. That is, the weights that we allocate to the assets sum to $1$ \n",
    "and all of them are positive (because we **buy** the assets). \n",
    "In particular, these two conditions were imposed when solving the minimization problems. \n",
    "\n",
    "However, **we could in principle not invest all of our capital**, which means that we at do not necessarily \n",
    "get weights that sum to $1$, and also we may decide to not buy all the assets. We could **short selling** some of them (by short shelling we mean selling an asset that we do not have and that we borrow from someone else).\n",
    "\n",
    " "
   ]
  },
  {
   "cell_type": "markdown",
   "metadata": {},
   "source": [
    "### Maximizing the sharpe ratio portfolio in presence of non null risk-free rate\n",
    "\n",
    "Recall that a **risk-free asset** is an (hypothetical) asset with a risk-free rate. For example, **short-term government securities (such as US treasury bills)** are used as a risk-free asset since **they pay a fixed interest rate and have exceptionally low default risk**. \n",
    "\n",
    "The risk-free asset has zero volatility. Furthermore, it is also uncorrelated with any other asset since, \n",
    "by definition, its volatility is zero. Therefore, when combined with any other asset in a portfolio, \n",
    "**the change in return is linearly related to the change in risk** as the proportions in the combination vary.\n",
    "\n",
    "#### The capital market line (CML)\n",
    "\n",
    "When a risk-free asset is introduced, there will be a line satisfying:\n",
    "\n",
    " 1. it is tangent to the curve at the risky portfolio with the highest Sharpe ratio; \n",
    " 2. its vertical intercept represents a portfolio with $100\\%$ of holdings in the risk-free asset; \n",
    " 3. the tangency with the curve represents the highest sharpe ratio portfolio with no risk-free holdings and $100%$ of risky assets; \n",
    " assets held in the portfolio occurring at the tangency point; \n",
    " 4. points on this line represent portfolios containing positive amounts of both the risky assets and the risk-free asset; \n",
    " \n",
    "This efficient line is called the **Capital Market Line (CML)**, and its given by:\n",
    "$$\n",
    "R_{CML} = R_{f} + \\sigma_{CML}\\frac{R_{p} - R_{f}}{\\sigma_{p}}, \n",
    "$$\n",
    "where $R_p$ and $\\sigma_p$ are the return and the volatility of the risky portfolio with no risk free asset, respectively, \n",
    "$R_f$ denotes the risk-free rate, and $R_{CML}$ and $\\sigma_{CML}$ denote the return and the volatility of the \n",
    "portfolio combining both risky assets and the risk-free asset, respectively."
   ]
  },
  {
   "cell_type": "code",
   "execution_count": 43,
   "metadata": {},
   "outputs": [
    {
     "name": "stdout",
     "output_type": "stream",
     "text": [
      "optimal weights:\n",
      "AAPL :50.00%\n",
      "MSFT :20.60%\n",
      "SBUX :29.39%\n"
     ]
    }
   ],
   "source": [
    "risk_free_rate = 0.06\n",
    "optimal_weights = lib.maximize_shape_ratio(ann_rets, cov_rets, risk_free_rate, periods_per_year)\n",
    "print_weights(tickers, optimal_weights)"
   ]
  },
  {
   "cell_type": "code",
   "execution_count": 32,
   "metadata": {},
   "outputs": [
    {
     "name": "stdout",
     "output_type": "stream",
     "text": [
      "Portfolio return:       24.74%\n",
      "Portfolio volatility:   23.03%\n",
      "Portfolio sharpe ratio: 0.81\n"
     ]
    }
   ],
   "source": [
    "ret, vol, shp = get_portfolio_features(optimal_weights, ann_rets, cov_rets, risk_free_rate, periods_per_year)"
   ]
  },
  {
   "cell_type": "markdown",
   "metadata": {},
   "source": [
    "Let us plot the efficient frontier and the capital market line using the optional argument in our plot method:"
   ]
  },
  {
   "cell_type": "code",
   "execution_count": 33,
   "metadata": {},
   "outputs": [
    {
     "data": {
      "image/png": "[encoded data removed]",
      "text/plain": [
       "<Figure size 576x288 with 1 Axes>"
      ]
     },
     "metadata": {},
     "output_type": "display_data"
    }
   ],
   "source": [
    "df, ax = lib.efficient_frontier(40, daily_rets, cov_rets, periods_per_year, risk_free_rate=risk_free_rate, \n",
    "                                iplot=True, cml=True)\n",
    "ax.set_title(\"Maximum Sharpe Ratio portfolio {} for risk free rate {}%\".format(np.round(shp,2),risk_free_rate*100))\n",
    "plt.show()"
   ]
  },
  {
   "cell_type": "markdown",
   "metadata": {},
   "source": [
    "The introduction of the risk-free asset as a possible component of the portfolio has improved the range of volatility-return combinations available since **everywhere, except at the tangency portfolio, the CML provides a higher return than the (old) efficient frontier does \n",
    "at every possible volatility.** "
   ]
  },
  {
   "cell_type": "markdown",
   "metadata": {},
   "source": [
    "Note that the efficient frontier method has other optional parameter to plot the highest sharpe ratio, the minimum volatility, and the equally weigthed portfolio as well:"
   ]
  },
  {
   "cell_type": "code",
   "execution_count": 34,
   "metadata": {},
   "outputs": [
    {
     "data": {
      "image/png": "[encoded data removed]",
      "text/plain": [
       "<Figure size 576x288 with 1 Axes>"
      ]
     },
     "metadata": {},
     "output_type": "display_data"
    }
   ],
   "source": [
    "risk_free_rate = 0.05\n",
    "df, ax = lib.efficient_frontier(90, daily_rets, cov_rets, periods_per_year, risk_free_rate=risk_free_rate, \n",
    "                                iplot=True, hsr=True, cml=True, mvp=True, ewp=True)\n",
    "ax.set_title(\"Maximum Sharpe ratio portfolio {} for risk free rate {}%\".format(np.round(shp,2),risk_free_rate*100))\n",
    "plt.show()"
   ]
  },
  {
   "cell_type": "code",
   "execution_count": 35,
   "metadata": {},
   "outputs": [
    {
     "data": {
      "text/html": [
       "<div>\n",
       "<style scoped>\n",
       "    .dataframe tbody tr th:only-of-type {\n",
       "        vertical-align: middle;\n",
       "    }\n",
       "\n",
       "    .dataframe tbody tr th {\n",
       "        vertical-align: top;\n",
       "    }\n",
       "\n",
       "    .dataframe thead th {\n",
       "        text-align: right;\n",
       "    }\n",
       "</style>\n",
       "<table border=\"1\" class=\"dataframe\">\n",
       "  <thead>\n",
       "    <tr style=\"text-align: right;\">\n",
       "      <th></th>\n",
       "      <th>0</th>\n",
       "      <th>1</th>\n",
       "      <th>2</th>\n",
       "      <th>3</th>\n",
       "      <th>4</th>\n",
       "      <th>5</th>\n",
       "    </tr>\n",
       "  </thead>\n",
       "  <tbody>\n",
       "    <tr>\n",
       "      <th>88</th>\n",
       "      <td>0.306585</td>\n",
       "      <td>0.294691</td>\n",
       "      <td>0.798117</td>\n",
       "      <td>0.977343</td>\n",
       "      <td>1.110223e-16</td>\n",
       "      <td>0.022657</td>\n",
       "    </tr>\n",
       "    <tr>\n",
       "      <th>89</th>\n",
       "      <td>0.311073</td>\n",
       "      <td>0.296842</td>\n",
       "      <td>0.793521</td>\n",
       "      <td>1.000000</td>\n",
       "      <td>8.588914e-18</td>\n",
       "      <td>0.000000</td>\n",
       "    </tr>\n",
       "    <tr>\n",
       "      <th>90</th>\n",
       "      <td>0.212923</td>\n",
       "      <td>0.232931</td>\n",
       "      <td>0.859140</td>\n",
       "      <td>0.483833</td>\n",
       "      <td>1.543181e-01</td>\n",
       "      <td>0.361849</td>\n",
       "    </tr>\n",
       "    <tr>\n",
       "      <th>91</th>\n",
       "      <td>0.141678</td>\n",
       "      <td>0.130930</td>\n",
       "      <td>0.571223</td>\n",
       "      <td>0.055688</td>\n",
       "      <td>7.898496e-01</td>\n",
       "      <td>0.154462</td>\n",
       "    </tr>\n",
       "    <tr>\n",
       "      <th>92</th>\n",
       "      <td>0.179320</td>\n",
       "      <td>0.201360</td>\n",
       "      <td>0.844078</td>\n",
       "      <td>0.333333</td>\n",
       "      <td>3.333333e-01</td>\n",
       "      <td>0.333333</td>\n",
       "    </tr>\n",
       "  </tbody>\n",
       "</table>\n",
       "</div>"
      ],
      "text/plain": [
       "           0         1         2         3             4         5\n",
       "88  0.306585  0.294691  0.798117  0.977343  1.110223e-16  0.022657\n",
       "89  0.311073  0.296842  0.793521  1.000000  8.588914e-18  0.000000\n",
       "90  0.212923  0.232931  0.859140  0.483833  1.543181e-01  0.361849\n",
       "91  0.141678  0.130930  0.571223  0.055688  7.898496e-01  0.154462\n",
       "92  0.179320  0.201360  0.844078  0.333333  3.333333e-01  0.333333"
      ]
     },
     "execution_count": 35,
     "metadata": {},
     "output_type": "execute_result"
    }
   ],
   "source": [
    "df.tail()"
   ]
  },
  {
   "cell_type": "markdown",
   "metadata": {},
   "source": [
    "### Maximizing the sharpe ratio = Minimizing volatility when we invest also in a risk free asset\n"
   ]
  },
  {
   "cell_type": "markdown",
   "metadata": {},
   "source": [
    "First of all, recall that with our method we can find the weigths of the portfolio with the maximum sharpe ratio:"
   ]
  },
  {
   "cell_type": "code",
   "execution_count": 36,
   "metadata": {},
   "outputs": [
    {
     "data": {
      "text/plain": [
       "array([0.54475795, 0.06430902, 0.39093302])"
      ]
     },
     "execution_count": 36,
     "metadata": {},
     "output_type": "execute_result"
    }
   ],
   "source": [
    "risk_free_rate = 0.06\n",
    "optimal_weights = lib.maximize_shape_ratio(ann_rets, cov_rets, risk_free_rate, periods_per_year)\n",
    "optimal_weights"
   ]
  },
  {
   "cell_type": "markdown",
   "metadata": {},
   "source": [
    "Ok. Let us verify our formulas for $\\mathbf{w}_M$:"
   ]
  },
  {
   "cell_type": "code",
   "execution_count": 38,
   "metadata": {},
   "outputs": [],
   "source": [
    "invcov = lib.inverse_df(cov_rets)\n",
    "ones   = np.repeat(1,3) \n",
    "r_rf   = ann_rets - risk_free_rate*ones"
   ]
  },
  {
   "cell_type": "code",
   "execution_count": 39,
   "metadata": {},
   "outputs": [
    {
     "data": {
      "text/plain": [
       "array([0.54341316, 0.06476746, 0.39181938])"
      ]
     },
     "execution_count": 39,
     "metadata": {},
     "output_type": "execute_result"
    }
   ],
   "source": [
    "w_M = np.dot( invcov, r_rf ) / np.dot( ones, np.dot(invcov, r_rf) )\n",
    "w_M"
   ]
  },
  {
   "cell_type": "markdown",
   "metadata": {},
   "source": [
    "Yes, they coincide. We implemented these weights in the following method:"
   ]
  },
  {
   "cell_type": "code",
   "execution_count": 40,
   "metadata": {},
   "outputs": [
    {
     "data": {
      "text/plain": [
       "array([0.54341316, 0.06476746, 0.39181938])"
      ]
     },
     "execution_count": 40,
     "metadata": {},
     "output_type": "execute_result"
    }
   ],
   "source": [
    "lib.weigths_max_sharpe_ratio(cov_rets, r_rf).values"
   ]
  },
  {
   "cell_type": "markdown",
   "metadata": {},
   "source": [
    "Now, let us verify that the portfolio with these weigths has a return and a volatility as in formulas $\\mu_M$ and $\\sigma_M$:"
   ]
  },
  {
   "cell_type": "code",
   "execution_count": 41,
   "metadata": {},
   "outputs": [
    {
     "data": {
      "text/plain": [
       "0.24723259196553926"
      ]
     },
     "execution_count": 41,
     "metadata": {},
     "output_type": "execute_result"
    }
   ],
   "source": [
    "# return: using the portfolio return method\n",
    "mu_M = lib.portfolio_return(w_M, ann_rets)\n",
    "mu_M"
   ]
  },
  {
   "cell_type": "code",
   "execution_count": 42,
   "metadata": {},
   "outputs": [
    {
     "data": {
      "text/plain": [
       "0.24723259196553932"
      ]
     },
     "execution_count": 42,
     "metadata": {},
     "output_type": "execute_result"
    }
   ],
   "source": [
    "# return: using the formula we found\n",
    "mu_M = np.dot( r_rf, np.dot(invcov, ann_rets) ) / np.dot(ones, np.dot(invcov,r_rf) )\n",
    "mu_M "
   ]
  },
  {
   "cell_type": "code",
   "execution_count": 44,
   "metadata": {},
   "outputs": [
    {
     "data": {
      "text/plain": [
       "0.23005214107788935"
      ]
     },
     "execution_count": 44,
     "metadata": {},
     "output_type": "execute_result"
    }
   ],
   "source": [
    "# volatility: using the portfolio vol method\n",
    "sigma_M = lib.annualize_vol( lib.portfolio_volatility(w_M, cov_rets), periods_per_year)\n",
    "sigma_M"
   ]
  },
  {
   "cell_type": "code",
   "execution_count": 45,
   "metadata": {},
   "outputs": [
    {
     "data": {
      "text/plain": [
       "0.23005214107788935"
      ]
     },
     "execution_count": 45,
     "metadata": {},
     "output_type": "execute_result"
    }
   ],
   "source": [
    "# volatility: using the formula\n",
    "sigma_M = np.sqrt( np.dot(r_rf, np.dot(invcov,r_rf)) ) / np.dot(ones, np.dot(invcov,r_rf))\n",
    "sigma_M = lib.annualize_vol(sigma_M , periods_per_year)\n",
    "sigma_M"
   ]
  },
  {
   "cell_type": "markdown",
   "metadata": {},
   "source": [
    "Perfect. Let us now define the $\\mathbf{w}^*$ weigths of a portfolio which invest in both the risk-free asset and risky assets:"
   ]
  },
  {
   "cell_type": "code",
   "execution_count": 46,
   "metadata": {},
   "outputs": [
    {
     "data": {
      "text/plain": [
       "array([0.20316399, 0.02421438, 0.14648815])"
      ]
     },
     "execution_count": 46,
     "metadata": {},
     "output_type": "execute_result"
    }
   ],
   "source": [
    "target_ret = 0.13\n",
    "wstar = (target_ret - risk_free_rate) / np.dot(r_rf, np.dot(invcov,r_rf)) * np.dot(invcov,r_rf)             \n",
    "wstar"
   ]
  },
  {
   "cell_type": "markdown",
   "metadata": {},
   "source": [
    "To these weigths we have to add the weigth in the risk-free asset:"
   ]
  },
  {
   "cell_type": "code",
   "execution_count": 47,
   "metadata": {},
   "outputs": [
    {
     "data": {
      "text/plain": [
       "array([0.20316399, 0.02421438, 0.14648815, 0.62613347])"
      ]
     },
     "execution_count": 47,
     "metadata": {},
     "output_type": "execute_result"
    }
   ],
   "source": [
    "np.append( wstar, 1-wstar.sum() )"
   ]
  },
  {
   "cell_type": "markdown",
   "metadata": {},
   "source": [
    "The last weight is the one in the risk-free asset. \n",
    "The return of such a portfolio is, by definition, equal to the target return:"
   ]
  },
  {
   "cell_type": "code",
   "execution_count": 48,
   "metadata": {},
   "outputs": [
    {
     "data": {
      "text/plain": [
       "0.13"
      ]
     },
     "execution_count": 48,
     "metadata": {},
     "output_type": "execute_result"
    }
   ],
   "source": [
    "mu_p = lib.portfolio_return( np.append(wstar,1-wstar.sum()) , ann_rets.append(pd.Series(risk_free_rate)) )\n",
    "mu_p"
   ]
  },
  {
   "cell_type": "markdown",
   "metadata": {},
   "source": [
    "Let us see the volatility of such a portfolio:"
   ]
  },
  {
   "cell_type": "code",
   "execution_count": 50,
   "metadata": {},
   "outputs": [
    {
     "data": {
      "text/plain": [
       "0.08600879636605244"
      ]
     },
     "execution_count": 50,
     "metadata": {},
     "output_type": "execute_result"
    }
   ],
   "source": [
    "# using the portfolio_volatility method\n",
    "lib.annualize_vol( lib.portfolio_volatility(wstar, cov_rets), periods_per_year)"
   ]
  },
  {
   "cell_type": "code",
   "execution_count": 51,
   "metadata": {},
   "outputs": [
    {
     "data": {
      "text/plain": [
       "0.08600879636605244"
      ]
     },
     "execution_count": 51,
     "metadata": {},
     "output_type": "execute_result"
    }
   ],
   "source": [
    "# using the formula\n",
    "sigma_p = lib.annualize_vol( (target_ret - risk_free_rate) / np.sqrt(np.dot(r_rf, np.dot(invcov,r_rf))), periods_per_year )\n",
    "sigma_p"
   ]
  },
  {
   "cell_type": "markdown",
   "metadata": {},
   "source": [
    "Finally, let us verify that all portfolio that are constructed using the weigths $\\mathbf{w}^*$ and $1-\\mathbf{w}^T\\mathbf{1}$ lie on the Capital Market Line. We define a set of target returns, from the original target return of $0.06$ up to the maximum sharpe ratio return $\\mu_M$:"
   ]
  },
  {
   "cell_type": "code",
   "execution_count": 52,
   "metadata": {},
   "outputs": [
    {
     "data": {
      "text/plain": [
       "[array([0.20316399, 0.02421438, 0.14648815, 0.62613347]),\n",
       " array([0.22107185, 0.02634876, 0.15940032, 0.59317907]),\n",
       " array([0.2389797 , 0.02848313, 0.17231249, 0.56022468]),\n",
       " array([0.25688755, 0.0306175 , 0.18522466, 0.52727029]),\n",
       " array([0.2747954 , 0.03275187, 0.19813683, 0.4943159 ]),\n",
       " array([0.29270325, 0.03488625, 0.211049  , 0.4613615 ]),\n",
       " array([0.3106111 , 0.03702062, 0.22396117, 0.42840711]),\n",
       " array([0.32851895, 0.03915499, 0.23687334, 0.39545272]),\n",
       " array([0.3464268 , 0.04128936, 0.24978551, 0.36249832]),\n",
       " array([0.36433465, 0.04342373, 0.26269768, 0.32954393]),\n",
       " array([0.3822425 , 0.04555811, 0.27560985, 0.29658954]),\n",
       " array([0.40015035, 0.04769248, 0.28852202, 0.26363514]),\n",
       " array([0.4180582 , 0.04982685, 0.30143419, 0.23068075]),\n",
       " array([0.43596606, 0.05196122, 0.31434636, 0.19772636]),\n",
       " array([0.45387391, 0.05409559, 0.32725853, 0.16477197]),\n",
       " array([0.47178176, 0.05622997, 0.3401707 , 0.13181757]),\n",
       " array([0.48968961, 0.05836434, 0.35308287, 0.09886318]),\n",
       " array([0.50759746, 0.06049871, 0.36599504, 0.06590879]),\n",
       " array([0.52550531, 0.06263308, 0.37890721, 0.03295439]),\n",
       " array([ 5.43413160e-01,  6.47674559e-02,  3.91819384e-01, -2.22044605e-16])]"
      ]
     },
     "execution_count": 52,
     "metadata": {},
     "output_type": "execute_result"
    }
   ],
   "source": [
    "target_ret_vec = np.linspace(target_ret,mu_M,20)\n",
    "wstar = [ (tr - risk_free_rate) / np.dot(r_rf, np.dot(invcov,r_rf)) * np.dot(invcov,r_rf) for tr in target_ret_vec ]         \n",
    "wstar = [ np.append(wstar[i], 1-wstar[i].sum()) for i in range(len(wstar)) ]\n",
    "wstar "
   ]
  },
  {
   "cell_type": "code",
   "execution_count": 53,
   "metadata": {},
   "outputs": [],
   "source": [
    "mus = [lib.portfolio_return(wstar[i], ann_rets.append(pd.Series(risk_free_rate))) for i in range(len(wstar)) ]\n",
    "sigmas = [lib.annualize_vol((tr - risk_free_rate) / np.sqrt(np.dot(r_rf, np.dot(invcov,r_rf))), periods_per_year) for tr in target_ret_vec]"
   ]
  },
  {
   "cell_type": "code",
   "execution_count": 54,
   "metadata": {},
   "outputs": [
    {
     "data": {
      "image/png": "[encoded data removed]",
      "text/plain": [
       "<Figure size 432x288 with 1 Axes>"
      ]
     },
     "metadata": {},
     "output_type": "display_data"
    }
   ],
   "source": [
    "CML = pd.concat([pd.DataFrame(sigmas),pd.DataFrame(mus)], axis=1) \n",
    "CML.columns = [\"sigma\",\"mu\"]\n",
    "CML.plot.line(x=\"sigma\", y=\"mu\", grid=True, legend=False)\n",
    "plt.show()"
   ]
  },
  {
   "cell_type": "code",
   "execution_count": null,
   "metadata": {},
   "outputs": [],
   "source": []
  }
 ],
 "metadata": {
  "kernelspec": {
   "display_name": "Python 3",
   "language": "python",
   "name": "python3"
  },
  "language_info": {
   "codemirror_mode": {
    "name": "ipython",
    "version": 3
   },
   "file_extension": ".py",
   "mimetype": "text/x-python",
   "name": "python",
   "nbconvert_exporter": "python",
   "pygments_lexer": "ipython3",
   "version": "3.7.6"
  }
 },
 "nbformat": 4,
 "nbformat_minor": 4
}
