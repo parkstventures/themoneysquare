{
 "cells": [
  {
   "cell_type": "markdown",
   "metadata": {},
   "source": [
    "## Time Value of Money Examples\n",
    "\n",
    "Park Street Ventures LLC\n",
    "\n",
    "Subu Sangameswar\n",
    "\n",
    "Apr 2020\n"
   ]
  },
  {
   "cell_type": "code",
   "execution_count": 1,
   "metadata": {},
   "outputs": [],
   "source": [
    "# standard libraries\n",
    "import pandas as pd\n",
    "import numpy as np\n",
    "import matplotlib.pyplot as plt"
   ]
  },
  {
   "cell_type": "code",
   "execution_count": 22,
   "metadata": {},
   "outputs": [],
   "source": [
    "def pv(cashflow, interest, timeperiod, number_periods):\n",
    "    r = interest / number_periods\n",
    "    t = timeperiod  * number_periods\n",
    "    t1 = (1 + r)**t   \n",
    "    return round(cashflow / t1,2)\n",
    "\n",
    "def fv(cashflow, interest, timeperiod, number_periods):\n",
    "    r = interest / number_periods\n",
    "    t = timeperiod  * number_periods\n",
    "    t1 = (1 + r)**t   \n",
    "    return round(cashflow * t1,2)\n",
    "\n",
    "\n",
    "def pv_annuity(cashflow, interest, timeperiod, number_periods):\n",
    "    r = interest / number_periods\n",
    "    t = timeperiod  * number_periods\n",
    "    t1 = (1 + r)**t   \n",
    "    t2 = (1 - (1 / t1))/r\n",
    "    return round(cashflow * t2,2)"
   ]
  },
  {
   "cell_type": "markdown",
   "metadata": {},
   "source": [
    "# Present and Future Value of Single Cash Flow"
   ]
  },
  {
   "cell_type": "code",
   "execution_count": 19,
   "metadata": {},
   "outputs": [
    {
     "name": "stdout",
     "output_type": "stream",
     "text": [
      "The present value of this cashflow is $160986.62\n"
     ]
    }
   ],
   "source": [
    "# Assume you have to pay your friend\n",
    "# a lump sum payment of $500,000 ten years from today\n",
    "# an appropriate discount rate for this cash flow is 12%\n",
    "# The present value of this cash flow can then be estimated\n",
    "\n",
    "cashflow = 500000\n",
    "interest = .12\n",
    "timeperiod=10\n",
    "number_periods=1\n",
    "\n",
    "result = pv(cashflow, interest, timeperiod, number_periods)\n",
    "print(\"The present value of this cashflow is ${:.2f}\".format(result))"
   ]
  },
  {
   "cell_type": "code",
   "execution_count": 20,
   "metadata": {},
   "outputs": [
    {
     "name": "stdout",
     "output_type": "stream",
     "text": [
      "The future value of this cashflow is $1552924.10\n"
     ]
    }
   ],
   "source": [
    "# instead assume you have to $500000 today and wish to know its future value\n",
    "result = fv(cashflow, interest, timeperiod, number_periods)\n",
    "print(\"The future value of this cashflow is ${:.2f}\".format(result))"
   ]
  },
  {
   "cell_type": "code",
   "execution_count": 21,
   "metadata": {},
   "outputs": [
    {
     "name": "stdout",
     "output_type": "stream",
     "text": [
      "   interest         pv\n",
      "0         1  452643.48\n",
      "1         2  410174.15\n",
      "2         5  306956.63\n",
      "3        10  192771.64\n",
      "4        12  160986.62\n",
      "5        15  123592.35\n",
      "6        20   80752.79\n"
     ]
    },
    {
     "data": {
      "image/png": "[encoded data removed]",
      "text/plain": [
       "<Figure size 792x576 with 1 Axes>"
      ]
     },
     "metadata": {
      "needs_background": "light"
     },
     "output_type": "display_data"
    }
   ],
   "source": [
    "# let us simulate a exercise of present value with different interest rates and plot it\n",
    "# As interest rates increase, present value decreases\n",
    "\n",
    "\n",
    "# varying only the interest rate\n",
    "cf = pd.DataFrame({\"interest\":[1, 2, 5, 10, 12, 15, 20]})\n",
    "cf[\"pv\"]= pv(cashflow, cf['interest']/100, timeperiod, number_periods)\n",
    "\n",
    "print(cf)\n",
    "\n",
    "fig = plt.figure(figsize=(11,8))\n",
    "ax1 = fig.add_axes([0.1,0.1,0.8,0.8])\n",
    "ax1.plot(cf[\"interest\"], cf[\"pv\"])\n",
    "ax1.set_xlabel('interest in %') \n",
    "ax1.set_ylabel('Present value')\n",
    "ax1.set_title('Present Value Chart')\n",
    "plt.show()\n"
   ]
  },
  {
   "cell_type": "markdown",
   "metadata": {},
   "source": [
    "# Present Value of an End-of-the-Period Annuity"
   ]
  },
  {
   "cell_type": "code",
   "execution_count": 26,
   "metadata": {},
   "outputs": [
    {
     "name": "stdout",
     "output_type": "stream",
     "text": [
      "The present value of this cashflow is $1421.81\n",
      "compared to the current price of $996\n"
     ]
    }
   ],
   "source": [
    "# Assume trying to purchase a annual subscription\n",
    "# you have a choice of buying the subscription for $996 cash down for 1 year\n",
    "# or paying $125 a month for 1 years for the same subscription\n",
    "# If the opportunity cost is 10%, which would you rather do?\n",
    "\n",
    "cashflow = 125\n",
    "interest = .1\n",
    "timeperiod=1\n",
    "number_periods=12\n",
    "\n",
    "result = pv_annuity(cashflow, interest, timeperiod, number_periods)\n",
    "print(\"The present value of this cashflow is ${:.2f}\".format(result))\n",
    "print(\"compared to the current price of $996\")"
   ]
  },
  {
   "cell_type": "code",
   "execution_count": null,
   "metadata": {},
   "outputs": [],
   "source": []
  }
 ],
 "metadata": {
  "kernelspec": {
   "display_name": "Python 3",
   "language": "python",
   "name": "python3"
  },
  "language_info": {
   "codemirror_mode": {
    "name": "ipython",
    "version": 3
   },
   "file_extension": ".py",
   "mimetype": "text/x-python",
   "name": "python",
   "nbconvert_exporter": "python",
   "pygments_lexer": "ipython3",
   "version": "3.7.6"
  }
 },
 "nbformat": 4,
 "nbformat_minor": 4
}
