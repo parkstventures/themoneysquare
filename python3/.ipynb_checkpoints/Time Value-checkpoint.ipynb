{
 "cells": [
  {
   "cell_type": "markdown",
   "metadata": {},
   "source": [
    "# Time Value of Money Examples"
   ]
  },
  {
   "cell_type": "markdown",
   "metadata": {},
   "source": [
    "Park Street Ventures LLC\n",
    "\n",
    "Subu Sangameswar\n",
    "\n",
    "Apr 2020"
   ]
  },
  {
   "cell_type": "code",
   "execution_count": 96,
   "metadata": {},
   "outputs": [],
   "source": [
    "# standard libraries\n",
    "import pandas as pd\n",
    "import numpy as np\n",
    "import matplotlib.pyplot as plt"
   ]
  },
  {
   "cell_type": "code",
   "execution_count": 97,
   "metadata": {},
   "outputs": [],
   "source": [
    "# supporting functions\n",
    "\n",
    "def getcompoundingperiod(compoundtype):\n",
    "    \n",
    "    \"\"\"Return a integer\n",
    "    based on the compounding type, it returns an integer\n",
    "    \"\"\"\n",
    "    \n",
    "    divisor = 12\n",
    "        \n",
    "    compoundtype = compoundtype.upper()\n",
    "    if compoundtype == \"Y\":\n",
    "        divisor=1;\n",
    "    elif compoundtype == \"S\":  \n",
    "        divisor=2;\n",
    "    elif compoundtype == \"M\":  \n",
    "        divisor=12;    \n",
    "    elif compoundtype == \"D\":  \n",
    "        divisor=365;      \n",
    "    else: \n",
    "        divisor=12;\n",
    "      \n",
    "    return divisor\n",
    "\n",
    "def normalize(interest, timeperiod, compoundingtype=\"M\"):\n",
    "    \"\"\"\n",
    "    given an interest rate and time period, \n",
    "    it normalizes the value.\n",
    "    for example, if compouding type = monthly, then\n",
    "    interestrate is divided by 12 and timeperiod is multiplied by 12\n",
    "    \"\"\"\n",
    "    divisor = getcompoundingperiod(compoundingtype)\n",
    "    i = interest/divisor\n",
    "    t = timeperiod * divisor\n",
    "    return i, t\n",
    "    \n",
    "# actual working functions\n",
    "def presentvalue(cashflow, interest, timeperiod, compoundingtype=\"M\"):\n",
    "    \"\"\"Return a float\n",
    "    calculates present value, given interest, time and cashflow\n",
    "    \"\"\"\n",
    "    r, t = normalize(interest, timeperiod, compoundingtype)\n",
    "    return cashflow /((1.0 + r)**t)\n",
    "\n",
    "\n",
    "def futurevalue(cashflow, interest, timeperiod, compoundingtype=\"M\"):\n",
    "    \"\"\"Return a float\n",
    "    calculates future value, given interest, time and cashflow\n",
    "    \"\"\"\n",
    "    r, t = normalize(interest, timeperiod, compoundingtype)\n",
    "    #print(i,t)\n",
    "    return cashflow * (1+ r)**t\n",
    "\n",
    "def fv_annuity(principal,  payment, interest, timeperiod, compoundtype=\"Y\"):\n",
    "    r, t = normalize(interest, timeperiod, compoundingtype)\n",
    "    fv = payment *(((1+ (r))**(t) - 1)/(i))\n",
    "    return fv"
   ]
  },
  {
   "cell_type": "code",
   "execution_count": 98,
   "metadata": {},
   "outputs": [
    {
     "name": "stdout",
     "output_type": "stream",
     "text": [
      "The present value is $184,703.49\n"
     ]
    }
   ],
   "source": [
    "# example 1 - finding present value for a future cash flow\n",
    "cashflow = 500000\n",
    "interest = .1 # 10%\n",
    "timeperiod = 10\n",
    "compounding_type = \"M\" # monthly which is the usual\n",
    "\n",
    "# format the result with commas and two decimal places\n",
    "print (\"The present value is ${:,.2f}\".format(presentvalue(cashflow, interest, timeperiod, compounding_type)))"
   ]
  },
  {
   "cell_type": "code",
   "execution_count": 99,
   "metadata": {},
   "outputs": [
    {
     "name": "stdout",
     "output_type": "stream",
     "text": [
      "   interest             pv\n",
      "0         1  452437.549724\n",
      "1         2  409433.534061\n",
      "2         5  303580.520150\n",
      "3        10  184703.485960\n",
      "4        12  151497.389843\n",
      "5        15  112607.204704\n",
      "6        20   68792.303041\n"
     ]
    },
    {
     "data": {
      "image/png": "[encoded data removed]",
      "text/plain": [
       "<Figure size 792x576 with 1 Axes>"
      ]
     },
     "metadata": {
      "needs_background": "light"
     },
     "output_type": "display_data"
    }
   ],
   "source": [
    "# let us simulate a exercise of present value with different interest rates and plot it\n",
    "# As interest rates increase, present value decreases\n",
    "\n",
    "\n",
    "# varying only the interest rate\n",
    "cf = pd.DataFrame({\"interest\":[1, 2, 5, 10, 12, 15, 20]})\n",
    "cf[\"pv\"]= presentvalue(cashflow, cf['interest']/100, timeperiod, compounding_type)\n",
    "\n",
    "print(cf)\n",
    "\n",
    "fig = plt.figure(figsize=(11,8))\n",
    "ax1 = fig.add_axes([0.1,0.1,0.8,0.8])\n",
    "ax1.plot(cf[\"interest\"], cf[\"pv\"])\n",
    "ax1.set_xlabel('interest in %') # Notice the use of set_ to begin methods\n",
    "ax1.set_ylabel('Present value')\n",
    "ax1.set_title('Present Value Chart')\n",
    "plt.show()\n"
   ]
  },
  {
   "cell_type": "code",
   "execution_count": null,
   "metadata": {},
   "outputs": [],
   "source": []
  }
 ],
 "metadata": {
  "kernelspec": {
   "display_name": "Python 3",
   "language": "python",
   "name": "python3"
  },
  "language_info": {
   "codemirror_mode": {
    "name": "ipython",
    "version": 3
   },
   "file_extension": ".py",
   "mimetype": "text/x-python",
   "name": "python",
   "nbconvert_exporter": "python",
   "pygments_lexer": "ipython3",
   "version": "3.7.6"
  }
 },
 "nbformat": 4,
 "nbformat_minor": 4
}
