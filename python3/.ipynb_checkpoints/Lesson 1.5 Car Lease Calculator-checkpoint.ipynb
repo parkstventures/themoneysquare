{
 "cells": [
  {
   "cell_type": "markdown",
   "metadata": {},
   "source": [
    "# Car Lease Calculator\n",
    "\n",
    "Park Street Ventures LLC\n",
    "\n",
    "Subu Sangameswar\n",
    "\n",
    "May 2020"
   ]
  },
  {
   "cell_type": "code",
   "execution_count": 1,
   "metadata": {},
   "outputs": [],
   "source": [
    "import pandas as pd\n",
    "import numpy as np\n",
    "from datetime import date\n",
    "import matplotlib.pyplot as plt\n",
    "import matplotlib\n",
    "import numpy_financial as npf\n",
    "%matplotlib inline\n",
    "matplotlib.style.use('ggplot')"
   ]
  },
  {
   "cell_type": "code",
   "execution_count": 2,
   "metadata": {},
   "outputs": [],
   "source": [
    "# input data\n",
    "\n",
    "# This is the Manufacturer's Suggested Retail Price, also called the sticker price of the car\n",
    "msrp = 32055\n",
    "\n",
    "# This is the negotiated price of the car, which is usually less than the MSRP or sticker price\n",
    "base_cap_cost = 28095\n",
    "\n",
    "# Acquisition fees usually range from $250 to $750.  This fee is included in every lease agreement.\n",
    "dealer_acquisition_cost = 995\n",
    "\n",
    "# Additional costs associated with any other features outside of the lease, such as an extended warranty.\n",
    "extended_warranties = 2500"
   ]
  },
  {
   "cell_type": "code",
   "execution_count": 3,
   "metadata": {},
   "outputs": [],
   "source": [
    "# Cost reductions \n",
    "\n",
    "# Includes cash or other allowances that pay down the capitalized cost of the car\n",
    "down_payment = 2000\n",
    "\n",
    "# Any trade in allowance the dealer might offer you for an existing vehicle.\n",
    "trade_in_allowance = 1000"
   ]
  },
  {
   "cell_type": "code",
   "execution_count": 6,
   "metadata": {},
   "outputs": [
    {
     "data": {
      "text/plain": [
       "28590"
      ]
     },
     "execution_count": 6,
     "metadata": {},
     "output_type": "execute_result"
    }
   ],
   "source": [
    "gross_capitalized_cost = base_cap_cost + dealer_acquisition_cost + extended_warranties\n",
    "net_capitalized_cost = gross_capitalized_cost - down_payment - trade_in_allowance\n",
    "net_capitalized_cost"
   ]
  },
  {
   "cell_type": "code",
   "execution_count": 28,
   "metadata": {},
   "outputs": [
    {
     "data": {
      "text/plain": [
       "18912.45"
      ]
     },
     "execution_count": 28,
     "metadata": {},
     "output_type": "execute_result"
    }
   ],
   "source": [
    "# Lease terms\n",
    "\n",
    "# Should be between .50 and .59 ..higher better\n",
    "residual_percentage = 0.59\n",
    "\n",
    "apr = 3 # Effective APR on the lease in %\n",
    "\n",
    "term_of_lease = 48 # The term must be 24, 36 or 48 months\n",
    "\n",
    "sales_tax = 6 # State sales tax due on the lease in %\n",
    "\n",
    "money_factor = apr/(24*100)\n",
    "\n",
    "\n",
    "factor = 0\n",
    "\n",
    "if residual_percentage == 0:\n",
    "    if term_of_lease == 24: factor = .6\n",
    "    elif term_of_lease == 36: factor = .5\n",
    "    elif term_of_lease == 48: factor = .45\n",
    "    else: factor = .6\n",
    "else:\n",
    "    factor = residual_percentage\n",
    "\n",
    "residual_value = factor * msrp\n",
    "residual_value"
   ]
  },
  {
   "cell_type": "code",
   "execution_count": 29,
   "metadata": {},
   "outputs": [
    {
     "data": {
      "text/plain": [
       "(9677.55, 2850.147, 751.66182, 13279.35882)"
      ]
     },
     "execution_count": 29,
     "metadata": {},
     "output_type": "execute_result"
    }
   ],
   "source": [
    "# calculation of lease cost\n",
    "\n",
    "# Total depreciation on the car, which is the net capitalized cost minus the residual value.\n",
    "depreciation = net_capitalized_cost - residual_value\n",
    "# The rent charged on the money borrowed over the term of the lease.\n",
    "finance_charge = (net_capitalized_cost + residual_value) * money_factor * term_of_lease\n",
    "# State sales tax due on the lease\n",
    "lease_sales_tax = (depreciation + finance_charge) * sales_tax/100\n",
    "# (depreciation,finance_charge,sales_tax )\n",
    "total_payments = depreciation + finance_charge + lease_sales_tax\n",
    "(depreciation,finance_charge,lease_sales_tax ,total_payments)"
   ]
  },
  {
   "cell_type": "code",
   "execution_count": 31,
   "metadata": {},
   "outputs": [
    {
     "data": {
      "text/plain": [
       "(15810.641179999999, 60.0)"
      ]
     },
     "execution_count": 31,
     "metadata": {},
     "output_type": "execute_result"
    }
   ],
   "source": [
    "# total_lease_payments\n",
    "total_lease_payments = gross_capitalized_cost - total_payments - extended_warranties  #Total costs associated with the lease itself.\n",
    "sales_tax_due = (down_payment - trade_in_allowance)*sales_tax/100\n",
    "(total_lease_payments, sales_tax_due)"
   ]
  },
  {
   "cell_type": "code",
   "execution_count": 33,
   "metadata": {},
   "outputs": [
    {
     "data": {
      "text/plain": [
       "276.65330875"
      ]
     },
     "execution_count": 33,
     "metadata": {},
     "output_type": "execute_result"
    }
   ],
   "source": [
    "# monthly lease payment\n",
    "monthly_lease = (depreciation + finance_charge)/term_of_lease\n",
    "monthly_sales_tax = lease_sales_tax/term_of_lease\n",
    "\n",
    "total_monthly_payment = monthly_lease + monthly_sales_tax\n",
    "total_monthly_payment"
   ]
  },
  {
   "cell_type": "code",
   "execution_count": null,
   "metadata": {},
   "outputs": [],
   "source": []
  }
 ],
 "metadata": {
  "kernelspec": {
   "display_name": "Python 3",
   "language": "python",
   "name": "python3"
  },
  "language_info": {
   "codemirror_mode": {
    "name": "ipython",
    "version": 3
   },
   "file_extension": ".py",
   "mimetype": "text/x-python",
   "name": "python",
   "nbconvert_exporter": "python",
   "pygments_lexer": "ipython3",
   "version": "3.7.6"
  }
 },
 "nbformat": 4,
 "nbformat_minor": 4
}
