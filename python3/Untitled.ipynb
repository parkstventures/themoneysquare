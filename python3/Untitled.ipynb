{
 "cells": [
  {
   "cell_type": "markdown",
   "metadata": {},
   "source": [
    "# Monte Carlo valuation of European call option\n",
    "# in Black-Scholes-Merton model"
   ]
  },
  {
   "cell_type": "code",
   "execution_count": 5,
   "metadata": {},
   "outputs": [],
   "source": [
    "# bsm_mcs_euro.py #\n",
    "import numpy as np"
   ]
  },
  {
   "cell_type": "code",
   "execution_count": 6,
   "metadata": {},
   "outputs": [],
   "source": [
    "# Parameter Values\n",
    "S0 = 100. # initial index level \n",
    "K = 105. # strike price\n",
    "T = 1.0 # time-to-maturity\n",
    "r = 0.05 # riskless short rate \n",
    "sigma = 0.2 # volatility\n",
    "I = 100000 # number of simulations"
   ]
  },
  {
   "cell_type": "code",
   "execution_count": 7,
   "metadata": {},
   "outputs": [
    {
     "name": "stdout",
     "output_type": "stream",
     "text": [
      "Value of the European Call Option 8.038\n"
     ]
    }
   ],
   "source": [
    "# Valuation Algorithm\n",
    "z = np.random.standard_normal(I) # pseudorandom numbers \n",
    "ST=S0*np.exp((r-0.5*sigma**2)*T+sigma*np.sqrt(T)*z)\n",
    "# index values at maturity\n",
    "hT = np.maximum(ST - K, 0) # inner values at maturity\n",
    "C0 = np.exp(-r * T) * np.sum(hT) / I # Monte Carlo estimator\n",
    "# Result Output\n",
    "print (\"Value of the European Call Option %5.3f\" % C0)"
   ]
  },
  {
   "cell_type": "code",
   "execution_count": null,
   "metadata": {},
   "outputs": [],
   "source": []
  }
 ],
 "metadata": {
  "kernelspec": {
   "display_name": "Python 3",
   "language": "python",
   "name": "python3"
  },
  "language_info": {
   "codemirror_mode": {
    "name": "ipython",
    "version": 3
   },
   "file_extension": ".py",
   "mimetype": "text/x-python",
   "name": "python",
   "nbconvert_exporter": "python",
   "pygments_lexer": "ipython3",
   "version": "3.7.6"
  }
 },
 "nbformat": 4,
 "nbformat_minor": 4
}
