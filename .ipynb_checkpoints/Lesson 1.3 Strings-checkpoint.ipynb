{
 "cells": [
  {
   "cell_type": "markdown",
   "metadata": {},
   "source": [
    "# Python String\n",
    "\n",
    "Subu Sangameswar\n",
    "\n",
    "Jun 2020\n",
    "\n",
    "- Length of a string\n",
    "- Concatenate string\n",
    "- Change case of a string\n",
    "- Slice a string\n",
    "- Join a string\n"
   ]
  },
  {
   "cell_type": "code",
   "execution_count": 3,
   "metadata": {},
   "outputs": [
    {
     "name": "stdout",
     "output_type": "stream",
     "text": [
      "e\n",
      "15\n",
      "Sam is Learning Python\n"
     ]
    }
   ],
   "source": [
    "myString = 'Learning Python'\n",
    "\n",
    "# pull out only part of a string\n",
    "print (myString[1])\n",
    "\n",
    "# get the length of the string\n",
    "print (len(myString))    \n",
    "\n",
    "# Concatenate with other string\n",
    "print ('Sam is ' + myString)"
   ]
  },
  {
   "cell_type": "code",
   "execution_count": 5,
   "metadata": {},
   "outputs": [
    {
     "name": "stdout",
     "output_type": "stream",
     "text": [
      "LEARNING PYTHON\n",
      "learning python\n"
     ]
    }
   ],
   "source": [
    "# change to uppercase\n",
    "print(myString.upper())\n",
    "\n",
    "# change to lowercase\n",
    "print(myString.lower())"
   ]
  },
  {
   "cell_type": "markdown",
   "metadata": {},
   "source": [
    "We can easily slice a string"
   ]
  },
  {
   "cell_type": "code",
   "execution_count": 8,
   "metadata": {},
   "outputs": [
    {
     "name": "stdout",
     "output_type": "stream",
     "text": [
      "his \n",
      "his is really a long string\n",
      "g\n",
      "This is really a long stri\n"
     ]
    }
   ],
   "source": [
    "myString = \"This is really a long string\"\n",
    "\n",
    "# get a slice starting at index 1 and extending up to but not including index 5\n",
    "print(myString[1:5])\n",
    "\n",
    "#omitting either index defaults to the start or end of the string\n",
    "print(myString[1:])\n",
    "\n",
    "#last char (1st from the end)\n",
    "print(myString[-1])\n",
    "\n",
    "# starting at begin and all the way to end but omit last two characters\n",
    "print(myString[:-2])"
   ]
  },
  {
   "cell_type": "code",
   "execution_count": 9,
   "metadata": {},
   "outputs": [
    {
     "name": "stdout",
     "output_type": "stream",
     "text": [
      "Jennifer and Rebecca and Julie\n"
     ]
    }
   ],
   "source": [
    "myTuple = (\"Jennifer\", \"Rebecca\", \"Julie\")\n",
    "\n",
    "# join a string\n",
    "print(\" and \".join(myTuple))"
   ]
  },
  {
   "cell_type": "code",
   "execution_count": null,
   "metadata": {},
   "outputs": [],
   "source": []
  }
 ],
 "metadata": {
  "kernelspec": {
   "display_name": "Python 3.7.3 64-bit",
   "language": "python",
   "name": "python37364bit337eb06498554f11ba73335c7f02c61b"
  },
  "language_info": {
   "codemirror_mode": {
    "name": "ipython",
    "version": 3
   },
   "file_extension": ".py",
   "mimetype": "text/x-python",
   "name": "python",
   "nbconvert_exporter": "python",
   "pygments_lexer": "ipython3",
   "version": "3.7.3"
  }
 },
 "nbformat": 4,
 "nbformat_minor": 4
}
