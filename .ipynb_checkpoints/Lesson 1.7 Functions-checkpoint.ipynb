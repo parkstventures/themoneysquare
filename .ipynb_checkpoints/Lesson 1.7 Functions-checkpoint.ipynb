{
 "cells": [
  {
   "cell_type": "markdown",
   "metadata": {},
   "source": [
    "# Functions\n",
    "\n",
    "Park Street Ventures LLC\n",
    "\n",
    "Subu Raj\n",
    "\n",
    "Jun 2020"
   ]
  },
  {
   "cell_type": "markdown",
   "metadata": {},
   "source": [
    "A function is a block of organized, reusable code that is used to perform a single, related action. Functions provide better modularity for your application and a high degree of code reusing.\n",
    "\n",
    "function arguments usually have \n",
    "- Required arguments\n",
    "- Keyword arguments\n",
    "- Default arguments"
   ]
  },
  {
   "cell_type": "code",
   "execution_count": 3,
   "metadata": {},
   "outputs": [
    {
     "name": "stdout",
     "output_type": "stream",
     "text": [
      "please print this\n",
      "please print again\n"
     ]
    }
   ],
   "source": [
    "# function definition\n",
    "# rest of the code below \"def\" are indented to make it belong to this function\n",
    "def printme( astr ):\n",
    "   # print a string that is sent as a argument in astr\n",
    "   print (astr)\n",
    "   return;\n",
    "\n",
    "# Now you can call printme function\n",
    "printme(\"please print this\")\n",
    "\n",
    "# this can also be invoked using \"keyword arguments\"\n",
    "printme(astr = \"please print again\")"
   ]
  },
  {
   "cell_type": "code",
   "execution_count": 5,
   "metadata": {},
   "outputs": [
    {
     "name": "stdout",
     "output_type": "stream",
     "text": [
      "there was no string provided\n",
      "this is a new string to print\n"
     ]
    }
   ],
   "source": [
    "# let us rewrite the function using default arguments\n",
    "def printme( astr = \"there was no string provided\" ):\n",
    "   # print a string that is sent as a argument in astr\n",
    "   print (astr)\n",
    "   return;\n",
    "\n",
    "#now we call this function but omit the argument..\n",
    "printme()\n",
    "\n",
    "# call with arguments\n",
    "printme(\"this is a new string to print\")"
   ]
  },
  {
   "cell_type": "code",
   "execution_count": 7,
   "metadata": {},
   "outputs": [
    {
     "name": "stdout",
     "output_type": "stream",
     "text": [
      "Result :  200\n",
      "Result :  800\n"
     ]
    }
   ],
   "source": [
    "# lambda functions\n",
    "# can take any number of arguments but return just one value in the form of an expression\n",
    "multiply = lambda arg1, arg2: arg1 * arg2;\n",
    "\n",
    "# Now you can call sum as a function\n",
    "print (\"Result : \", multiply( 10, 20 ))\n",
    "print (\"Result : \", multiply( 20, 40 ))"
   ]
  },
  {
   "cell_type": "code",
   "execution_count": null,
   "metadata": {},
   "outputs": [],
   "source": []
  }
 ],
 "metadata": {
  "kernelspec": {
   "display_name": "Python 3",
   "language": "python",
   "name": "python3"
  },
  "language_info": {
   "codemirror_mode": {
    "name": "ipython",
    "version": 3
   },
   "file_extension": ".py",
   "mimetype": "text/x-python",
   "name": "python",
   "nbconvert_exporter": "python",
   "pygments_lexer": "ipython3",
   "version": "3.7.6"
  }
 },
 "nbformat": 4,
 "nbformat_minor": 4
}
