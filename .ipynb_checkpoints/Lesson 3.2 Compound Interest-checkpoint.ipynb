{
 "cells": [
  {
   "cell_type": "markdown",
   "metadata": {},
   "source": [
    "## Time Value of Money Examples\n",
    "\n",
    "Park Street Ventures LLC\n",
    "\n",
    "Subu Sangameswar\n",
    "\n",
    "Aug 2020\n",
    "\n",
    "- compound interest\n"
   ]
  },
  {
   "cell_type": "code",
   "execution_count": 22,
   "metadata": {},
   "outputs": [],
   "source": [
    "# standard libraries\n",
    "import pandas as pd\n",
    "import numpy as np\n",
    "import matplotlib.pyplot as plt\n",
    "import math"
   ]
  },
  {
   "cell_type": "code",
   "execution_count": 2,
   "metadata": {},
   "outputs": [],
   "source": [
    "def fv(cashflow, interest, timeperiod, number_periods):\n",
    "    r = interest / number_periods\n",
    "    t = timeperiod  * number_periods\n",
    "    t1 = (1 + r)**t   \n",
    "    return round(cashflow * t1,2)"
   ]
  },
  {
   "cell_type": "markdown",
   "metadata": {},
   "source": [
    "# Future Value of Single Cash Flow"
   ]
  },
  {
   "cell_type": "code",
   "execution_count": 4,
   "metadata": {},
   "outputs": [
    {
     "name": "stdout",
     "output_type": "stream",
     "text": [
      "The future value of this cashflow is $1552924.10\n"
     ]
    }
   ],
   "source": [
    "# Assume you have to pay your friend\n",
    "# a lump sum payment of $500,000 ten years from today\n",
    "# an appropriate discount rate for this cash flow is 12%\n",
    "# The present value of this cash flow can then be estimated\n",
    "\n",
    "cashflow = 500000\n",
    "interest = .12\n",
    "timeperiod=10\n",
    "number_periods=1\n",
    "\n",
    "result = fv(cashflow, interest, timeperiod, number_periods)\n",
    "print(\"The future value of this cashflow is ${:.2f}\".format(result))"
   ]
  },
  {
   "cell_type": "markdown",
   "metadata": {},
   "source": [
    "# Future value at different interest rate"
   ]
  },
  {
   "cell_type": "code",
   "execution_count": 6,
   "metadata": {},
   "outputs": [
    {
     "name": "stdout",
     "output_type": "stream",
     "text": [
      "   interest          fv\n",
      "0         1   552311.06\n",
      "1         2   609497.21\n",
      "2         5   814447.31\n",
      "3        10  1296871.23\n",
      "4        12  1552924.10\n",
      "5        15  2022778.87\n",
      "6        20  3095868.21\n"
     ]
    },
    {
     "data": {
      "image/png": "[encoded data removed]",
      "text/plain": [
       "<Figure size 792x576 with 1 Axes>"
      ]
     },
     "metadata": {
      "needs_background": "light"
     },
     "output_type": "display_data"
    }
   ],
   "source": [
    " let us simulate a exercise of future value with different interest rates and plot it\n",
    "# As interest rates increase, future value increases\n",
    "\n",
    "# varying only the interest rate\n",
    "cf = pd.DataFrame({\"interest\":[1, 2, 5, 10, 12, 15, 20]})\n",
    "cf[\"fv\"]= fv(cashflow, cf['interest']/100, timeperiod, number_periods)\n",
    "\n",
    "print(cf)\n",
    "\n",
    "fig = plt.figure(figsize=(11,8))\n",
    "ax1 = fig.add_axes([0.1,0.1,0.8,0.8])\n",
    "ax1.plot(cf[\"interest\"], cf[\"fv\"])\n",
    "ax1.set_xlabel('interest in %') \n",
    "ax1.set_ylabel('Present value')\n",
    "ax1.set_title('Present Value Chart')\n",
    "plt.show()"
   ]
  },
  {
   "cell_type": "markdown",
   "metadata": {},
   "source": [
    "# Future Value in different scenarios"
   ]
  },
  {
   "cell_type": "code",
   "execution_count": 26,
   "metadata": {},
   "outputs": [
    {
     "name": "stdout",
     "output_type": "stream",
     "text": [
      "The beginning cash flow is $500000.00\n",
      "The future value at annual compoundingis $1552924.10\n",
      "The future value at semi-annual compounding is $1603567.74\n",
      "The future value at monthly compounding is $1650193.45\n",
      "The future value at daily compounding is $1659731.10\n",
      "The future value at continuous compounding is $1660058.46\n"
     ]
    }
   ],
   "source": [
    "# 1: annual compouding\n",
    "# 2: semi annual compouding\n",
    "# 3: monthly compoduing\n",
    "# 4: daily compouding\n",
    "# 5: continuous compouding #theortical exercise than actual\n",
    "\n",
    "\n",
    "# annual compounding\n",
    "cashflow = 500000\n",
    "interest = .12\n",
    "timeperiod=10\n",
    "number_periods=1\n",
    "\n",
    "print(\"The beginning cash flow is ${:.2f}\".format(cashflow))\n",
    "\n",
    "\n",
    "result = fv(cashflow, interest, timeperiod, number_periods)\n",
    "print(\"The future value at annual compoundingis ${:.2f}\".format(result))\n",
    "\n",
    "# semi annual compouding\n",
    "number_periods = 2\n",
    "result = fv(cashflow, interest, timeperiod, number_periods)\n",
    "print(\"The future value at semi-annual compounding is ${:.2f}\".format(result))\n",
    "\n",
    "# monthly compouding\n",
    "number_periods = 12\n",
    "result = fv(cashflow, interest, timeperiod, number_periods)\n",
    "print(\"The future value at monthly compounding is ${:.2f}\".format(result))\n",
    "\n",
    "# daily compouding\n",
    "number_periods = 365\n",
    "result = fv(cashflow, interest, timeperiod, number_periods)\n",
    "print(\"The future value at daily compounding is ${:.2f}\".format(result))\n",
    "\n",
    "# continuous compouding\n",
    "result = cashflow * math.exp(interest * timeperiod)\n",
    "print(\"The future value at continuous compounding is ${:.2f}\".format(result))\n"
   ]
  },
  {
   "cell_type": "code",
   "execution_count": null,
   "metadata": {},
   "outputs": [],
   "source": []
  }
 ],
 "metadata": {
  "kernelspec": {
   "display_name": "Python 3",
   "language": "python",
   "name": "python3"
  },
  "language_info": {
   "codemirror_mode": {
    "name": "ipython",
    "version": 3
   },
   "file_extension": ".py",
   "mimetype": "text/x-python",
   "name": "python",
   "nbconvert_exporter": "python",
   "pygments_lexer": "ipython3",
   "version": "3.7.6"
  }
 },
 "nbformat": 4,
 "nbformat_minor": 4
}
