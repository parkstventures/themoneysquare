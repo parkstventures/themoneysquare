{
 "cells": [
  {
   "cell_type": "markdown",
   "metadata": {},
   "source": [
    "# Car Lease Calculator\n",
    "\n",
    "Park Street Ventures LLC\n",
    "\n",
    "Subu Raj\n",
    "\n",
    "May 2020"
   ]
  },
  {
   "cell_type": "code",
   "execution_count": 3,
   "metadata": {},
   "outputs": [],
   "source": [
    "import pandas as pd\n",
    "import numpy as np\n",
    "from datetime import date\n",
    "import matplotlib.pyplot as plt\n",
    "import matplotlib\n",
    "import numpy_financial as npf\n",
    "%matplotlib inline\n",
    "matplotlib.style.use('ggplot')"
   ]
  },
  {
   "cell_type": "code",
   "execution_count": 4,
   "metadata": {},
   "outputs": [],
   "source": [
    "# input data\n",
    "\n",
    "# This is the Manufacturer's Suggested Retail Price, also called the sticker price of the car\n",
    "msrp = 32055\n",
    "\n",
    "# This is the negotiated price of the car, which is usually less than the MSRP or sticker price\n",
    "base_cap_cost = 28095\n",
    "\n",
    "# Acquisition fees usually range from $250 to $750.  This fee is included in every lease agreement.\n",
    "dealer_acquisition_cost = 995\n",
    "\n",
    "# Additional costs associated with any other features outside of the lease, such as an extended warranty.\n",
    "extended_warranties = 2500"
   ]
  },
  {
   "cell_type": "code",
   "execution_count": 5,
   "metadata": {},
   "outputs": [],
   "source": [
    "# Cost reductions \n",
    "\n",
    "# Includes cash or other allowances that pay down the capitalized cost of the car\n",
    "down_payment = 2000\n",
    "\n",
    "# Any trade in allowance the dealer might offer you for an existing vehicle.\n",
    "trade_in_allowance = 1000\n",
    "\n",
    "# Lease terms\n",
    "\n",
    "# Should be between .50 and .59 ..higher better\n",
    "residual_percentage = 0.59\n",
    "\n",
    "apr = 3 # Effective APR on the lease in %\n",
    "\n",
    "term_of_lease = 48 # The term must be 24, 36 or 48 months\n",
    "\n",
    "sales_tax = 6 # State sales tax due on the lease in %"
   ]
  },
  {
   "cell_type": "code",
   "execution_count": 23,
   "metadata": {},
   "outputs": [],
   "source": [
    "# saving input data\n",
    "stats = {\n",
    "            \"MSRP\"  : msrp,\n",
    "            \"Negotiated Price\"     : base_cap_cost,\n",
    "            \"Dealer Fees\" : dealer_acquisition_cost,\n",
    "            \"Warranties\"     : extended_warranties,\n",
    "            \"Down Payment\"     : down_payment,\n",
    "            \"Trade in Allowance\": trade_in_allowance,\n",
    "            \"Residual % (this is critical)\"      : residual_percentage,\n",
    "            \"APR %\" : apr,\n",
    "            \"Lease Term (months)\": term_of_lease,\n",
    "            \"Sales Tax %\": sales_tax\n",
    "        }\n",
    "stats_df = pd.DataFrame(stats, index=[\"0\"])"
   ]
  },
  {
   "cell_type": "code",
   "execution_count": 6,
   "metadata": {},
   "outputs": [],
   "source": [
    "# using lease term and residual percentage to generate the money factor\n",
    "def get_factor(term_of_lease, residual_percentage=0):\n",
    "    factor = 0\n",
    "    if residual_percentage == 0:\n",
    "        if term_of_lease == 24: factor = .6\n",
    "        elif term_of_lease == 36: factor = .5\n",
    "        elif term_of_lease == 48: factor = .45\n",
    "        else: factor = .6\n",
    "    else:\n",
    "        factor = residual_percentage\n",
    "    return factor\n",
    "\n",
    "# calculate the total lease payments and monthly payment\n",
    "def get_payment(base_cap_cost, apr, residual_percentage, term_of_lease=48, dealer_acquisition_cost=995, extended_warranties=0, down_payment=0, trade_in_allowance=0):\n",
    "    \n",
    "    gross_capitalized_cost = base_cap_cost + dealer_acquisition_cost + extended_warranties\n",
    "    net_capitalized_cost = gross_capitalized_cost - down_payment - trade_in_allowance\n",
    "\n",
    "    money_factor = apr/(24*100)\n",
    "    factor = get_factor(term_of_lease, residual_percentage)\n",
    "    residual_value = factor * msrp\n",
    "\n",
    "    # calculation of lease cost\n",
    "\n",
    "    # Total depreciation on the car, which is the net capitalized cost minus the residual value.\n",
    "    depreciation = net_capitalized_cost - residual_value\n",
    "    # The rent charged on the money borrowed over the term of the lease.\n",
    "    finance_charge = (net_capitalized_cost + residual_value) * money_factor * term_of_lease\n",
    "    # State sales tax due on the lease\n",
    "    lease_sales_tax = (depreciation + finance_charge) * sales_tax/100\n",
    "    # (depreciation,finance_charge,sales_tax )\n",
    "    total_payments = depreciation + finance_charge + lease_sales_tax\n",
    "    \n",
    "    # total_lease_payments\n",
    "    total_lease_payment = gross_capitalized_cost - total_payments - extended_warranties  #Total costs associated with the lease itself.\n",
    "    sales_tax_due = (down_payment - trade_in_allowance)*sales_tax/100\n",
    "\n",
    "    monthly_lease = (depreciation + finance_charge)/term_of_lease\n",
    "    monthly_sales_tax = lease_sales_tax/term_of_lease\n",
    "    total_monthly_payment = monthly_lease + monthly_sales_tax\n",
    "\n",
    "    return total_lease_payment, total_monthly_payment"
   ]
  },
  {
   "cell_type": "code",
   "execution_count": 18,
   "metadata": {},
   "outputs": [
    {
     "name": "stdout",
     "output_type": "stream",
     "text": [
      "Monthly lease payment is $276.65\n",
      "The total payment during the lease is $15810.64\n"
     ]
    }
   ],
   "source": [
    "result = get_payment(base_cap_cost, apr, residual_percentage, term_of_lease, dealer_acquisition_cost, extended_warranties, down_payment, trade_in_allowance)\n",
    "\n",
    "\n",
    "print('Monthly lease payment is ${:.2f}'.format(result[1]))\n",
    "print('The total payment during the lease is ${:.2f}'.format(result[0]))"
   ]
  },
  {
   "cell_type": "code",
   "execution_count": 8,
   "metadata": {},
   "outputs": [
    {
     "data": {
      "image/png": "[encoded data removed]",
      "text/plain": [
       "<Figure size 432x288 with 1 Axes>"
      ]
     },
     "metadata": {},
     "output_type": "display_data"
    }
   ],
   "source": [
    "# let us compare monthly payments for different money factor for same lease terms\n",
    "monthly_payment =[]\n",
    "residual_percentage = [.5,.52,.54,.56,.58]\n",
    "\n",
    "for x in residual_percentage:\n",
    "    total_payment_1, monthly_payment_1 = get_payment(base_cap_cost, apr, x, term_of_lease, dealer_acquisition_cost, extended_warranties, down_payment, trade_in_allowance)\n",
    "    monthly_payment.append(monthly_payment_1)\n",
    "\n",
    "plt.plot(monthly_payment, residual_percentage)\n",
    "plt.ylabel('residual percentages')\n",
    "plt.show()"
   ]
  },
  {
   "cell_type": "code",
   "execution_count": 9,
   "metadata": {},
   "outputs": [
    {
     "data": {
      "image/png": "[encoded data removed]",
      "text/plain": [
       "<Figure size 432x288 with 1 Axes>"
      ]
     },
     "metadata": {},
     "output_type": "display_data"
    }
   ],
   "source": [
    "# let us compare monthly payments for terms for same money factor\n",
    "monthly_payment =[]\n",
    "lease_term = [24,36,48]\n",
    "residual_percentage=.59\n",
    "\n",
    "for x in lease_term:\n",
    "    total_payment_1, monthly_payment_1 = get_payment(base_cap_cost, apr, residual_percentage, x, dealer_acquisition_cost, extended_warranties, down_payment, trade_in_allowance)\n",
    "    monthly_payment.append(monthly_payment_1)\n",
    "\n",
    "plt.plot(monthly_payment, lease_term)\n",
    "plt.ylabel('lease term')\n",
    "plt.show()"
   ]
  },
  {
   "cell_type": "code",
   "execution_count": 27,
   "metadata": {},
   "outputs": [
    {
     "data": {
      "text/html": [
       "<div>\n",
       "<style scoped>\n",
       "    .dataframe tbody tr th:only-of-type {\n",
       "        vertical-align: middle;\n",
       "    }\n",
       "\n",
       "    .dataframe tbody tr th {\n",
       "        vertical-align: top;\n",
       "    }\n",
       "\n",
       "    .dataframe thead th {\n",
       "        text-align: right;\n",
       "    }\n",
       "</style>\n",
       "<table border=\"1\" class=\"dataframe\">\n",
       "  <thead>\n",
       "    <tr style=\"text-align: right;\">\n",
       "      <th></th>\n",
       "      <th>MSRP</th>\n",
       "      <th>Negotiated Price</th>\n",
       "      <th>Dealer Fees</th>\n",
       "      <th>Warranties</th>\n",
       "      <th>Down Payment</th>\n",
       "      <th>Trade in Allowance</th>\n",
       "      <th>Residual % (this is critical)</th>\n",
       "      <th>APR %</th>\n",
       "      <th>Lease Term (months)</th>\n",
       "      <th>Sales Tax %</th>\n",
       "    </tr>\n",
       "  </thead>\n",
       "  <tbody>\n",
       "    <tr>\n",
       "      <th>0</th>\n",
       "      <td>32055</td>\n",
       "      <td>28095</td>\n",
       "      <td>995</td>\n",
       "      <td>2500</td>\n",
       "      <td>2000</td>\n",
       "      <td>1000</td>\n",
       "      <td>0.59</td>\n",
       "      <td>3</td>\n",
       "      <td>48</td>\n",
       "      <td>6</td>\n",
       "    </tr>\n",
       "  </tbody>\n",
       "</table>\n",
       "</div>"
      ],
      "text/plain": [
       "    MSRP  Negotiated Price  Dealer Fees  Warranties  Down Payment  \\\n",
       "0  32055             28095          995        2500          2000   \n",
       "\n",
       "   Trade in Allowance  Residual % (this is critical)  APR %  \\\n",
       "0                1000                           0.59      3   \n",
       "\n",
       "   Lease Term (months)  Sales Tax %  \n",
       "0                   48            6  "
      ]
     },
     "execution_count": 27,
     "metadata": {},
     "output_type": "execute_result"
    }
   ],
   "source": [
    "# print a summary of info\n",
    "\n",
    "stats_df\n"
   ]
  },
  {
   "cell_type": "code",
   "execution_count": 28,
   "metadata": {},
   "outputs": [
    {
     "name": "stdout",
     "output_type": "stream",
     "text": [
      "Monthly lease payment is $276.65\n",
      "The total payment during the lease is $15810.64\n"
     ]
    }
   ],
   "source": [
    "print('Monthly lease payment is ${:.2f}'.format(result[1]))\n",
    "print('The total payment during the lease is ${:.2f}'.format(result[0]))"
   ]
  },
  {
   "cell_type": "code",
   "execution_count": null,
   "metadata": {},
   "outputs": [],
   "source": []
  }
 ],
 "metadata": {
  "kernelspec": {
   "display_name": "Python 3",
   "language": "python",
   "name": "python3"
  },
  "language_info": {
   "codemirror_mode": {
    "name": "ipython",
    "version": 3
   },
   "file_extension": ".py",
   "mimetype": "text/x-python",
   "name": "python",
   "nbconvert_exporter": "python",
   "pygments_lexer": "ipython3",
   "version": "3.7.6"
  }
 },
 "nbformat": 4,
 "nbformat_minor": 4
}
