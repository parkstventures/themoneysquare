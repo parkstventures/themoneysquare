{
 "cells": [
  {
   "cell_type": "markdown",
   "metadata": {},
   "source": [
    "## Compound Interest Examples\n",
    "\n",
    "Park Street Ventures LLC\n",
    "\n",
    "Subu Raj\n",
    "\n",
    "Aug 2020\n",
    "\n",
    "- compound interest\n",
    "- Single Cash Flow\n",
    "- Different Interest Rates\n",
    "- Different Compounding Periods\n"
   ]
  },
  {
   "cell_type": "code",
   "execution_count": 13,
   "metadata": {},
   "outputs": [],
   "source": [
    "# standard libraries\n",
    "import pandas as pd\n",
    "import numpy as np\n",
    "import matplotlib.pyplot as plt\n",
    "import math"
   ]
  },
  {
   "cell_type": "code",
   "execution_count": 14,
   "metadata": {},
   "outputs": [],
   "source": [
    "# function to return a future cash flow\n",
    "def fv(cashflow, interest, timeperiod, number_periods):\n",
    "    r = interest / number_periods\n",
    "    t = timeperiod  * number_periods\n",
    "    t1 = (1 + r)**t   \n",
    "    return round(cashflow * t1,2)"
   ]
  },
  {
   "cell_type": "markdown",
   "metadata": {},
   "source": [
    "# Single Cash Flow"
   ]
  },
  {
   "cell_type": "code",
   "execution_count": 15,
   "metadata": {},
   "outputs": [
    {
     "name": "stdout",
     "output_type": "stream",
     "text": [
      "The future value of this cashflow is $155,292.41\n"
     ]
    }
   ],
   "source": [
    "# Assume you have to pay your friend\n",
    "# a lump sum payment of $500,000 ten years from today\n",
    "# an appropriate discount rate for this cash flow is 12%\n",
    "# The present value of this cash flow can then be estimated\n",
    "\n",
    "cashflow = 50000\n",
    "interest = .12\n",
    "timeperiod=10\n",
    "number_periods=1\n",
    "\n",
    "result = fv(cashflow, interest, timeperiod, number_periods)\n",
    "print(\"The future value of this cashflow is ${:,.2f}\".format(result))"
   ]
  },
  {
   "cell_type": "markdown",
   "metadata": {},
   "source": [
    "# Different Interest Rates"
   ]
  },
  {
   "cell_type": "code",
   "execution_count": 16,
   "metadata": {},
   "outputs": [
    {
     "name": "stdout",
     "output_type": "stream",
     "text": [
      "   interest         fv\n",
      "0         1   55231.11\n",
      "1         2   60949.72\n",
      "2         5   81444.73\n",
      "3        10  129687.12\n",
      "4        12  155292.41\n",
      "5        15  202277.89\n",
      "6        20  309586.82\n"
     ]
    },
    {
     "data": {
      "image/png": "[encoded data removed]",
      "text/plain": [
       "<Figure size 792x576 with 1 Axes>"
      ]
     },
     "metadata": {
      "needs_background": "light"
     },
     "output_type": "display_data"
    }
   ],
   "source": [
    "# let us simulate a exercise of future value with different interest rates and plot it\n",
    "# As interest rates increase, future value increases\n",
    "\n",
    "# varying only the interest rate\n",
    "cf = pd.DataFrame({\"interest\":[1, 2, 5, 10, 12, 15, 20]})\n",
    "cf[\"fv\"]= fv(cashflow, cf['interest']/100, timeperiod, number_periods)\n",
    "\n",
    "print(cf)\n",
    "\n",
    "fig = plt.figure(figsize=(11,8))\n",
    "ax1 = fig.add_axes([0.1,0.1,0.8,0.8])\n",
    "ax1.plot(cf[\"interest\"], cf[\"fv\"])\n",
    "ax1.set_xlabel('interest in %') \n",
    "ax1.set_ylabel('Present value')\n",
    "ax1.set_title('Present Value Chart')\n",
    "plt.show()"
   ]
  },
  {
   "cell_type": "markdown",
   "metadata": {},
   "source": [
    "# Different Compounding Periods"
   ]
  },
  {
   "cell_type": "code",
   "execution_count": 18,
   "metadata": {},
   "outputs": [
    {
     "name": "stdout",
     "output_type": "stream",
     "text": [
      "The beginning cash flow is $500,000.00\n",
      "The future value at annual compounding is $1,552,924.10\n",
      "The future value at semi-annual compounding is $1,603,567.74\n",
      "The future value at monthly compounding is $1,650,193.45\n",
      "The future value at daily compounding is $1,659,731.10\n",
      "The future value at continuous compounding is $1,660,058.46\n"
     ]
    }
   ],
   "source": [
    "# 1: annual compouding\n",
    "# 2: semi annual compouding\n",
    "# 3: monthly compoduing\n",
    "# 4: daily compouding\n",
    "# 5: continuous compouding #theortical exercise than actual\n",
    "\n",
    "\n",
    "# annual compounding\n",
    "cashflow = 500000\n",
    "interest = .12\n",
    "timeperiod=10\n",
    "number_periods=1\n",
    "\n",
    "print(\"The beginning cash flow is ${:,.2f}\".format(cashflow))\n",
    "\n",
    "\n",
    "result = fv(cashflow, interest, timeperiod, number_periods)\n",
    "print(\"The future value at annual compounding is ${:,.2f}\".format(result))\n",
    "\n",
    "# semi annual compouding\n",
    "number_periods = 2\n",
    "result = fv(cashflow, interest, timeperiod, number_periods)\n",
    "print(\"The future value at semi-annual compounding is ${:,.2f}\".format(result))\n",
    "\n",
    "# monthly compouding\n",
    "number_periods = 12\n",
    "result = fv(cashflow, interest, timeperiod, number_periods)\n",
    "print(\"The future value at monthly compounding is ${:,.2f}\".format(result))\n",
    "\n",
    "# daily compouding\n",
    "number_periods = 365\n",
    "result = fv(cashflow, interest, timeperiod, number_periods)\n",
    "print(\"The future value at daily compounding is ${:,.2f}\".format(result))\n",
    "\n",
    "# continuous compouding\n",
    "result = cashflow * math.exp(interest * timeperiod)\n",
    "print(\"The future value at continuous compounding is ${:,.2f}\".format(result))\n"
   ]
  },
  {
   "cell_type": "code",
   "execution_count": null,
   "metadata": {},
   "outputs": [],
   "source": []
  }
 ],
 "metadata": {
  "kernelspec": {
   "display_name": "Python 3",
   "language": "python",
   "name": "python3"
  },
  "language_info": {
   "codemirror_mode": {
    "name": "ipython",
    "version": 3
   },
   "file_extension": ".py",
   "mimetype": "text/x-python",
   "name": "python",
   "nbconvert_exporter": "python",
   "pygments_lexer": "ipython3",
   "version": "3.7.6"
  }
 },
 "nbformat": 4,
 "nbformat_minor": 4
}
