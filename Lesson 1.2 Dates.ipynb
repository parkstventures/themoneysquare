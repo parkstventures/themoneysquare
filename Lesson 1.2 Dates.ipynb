{
 "cells": [
  {
   "cell_type": "markdown",
   "metadata": {},
   "source": [
    "# Python Date Time\n",
    "\n",
    "Park Street Ventures LLC\n",
    "\n",
    "Subu Raj\n",
    "\n",
    "May 2020\n",
    "\n",
    "- todays date\n",
    "- weekday\n",
    "- compare two dates\n",
    "- one year from now"
   ]
  },
  {
   "cell_type": "code",
   "execution_count": 1,
   "metadata": {},
   "outputs": [],
   "source": [
    "from datetime import date\n",
    "from datetime import time\n",
    "from datetime import datetime"
   ]
  },
  {
   "cell_type": "code",
   "execution_count": 19,
   "metadata": {},
   "outputs": [
    {
     "name": "stdout",
     "output_type": "stream",
     "text": [
      "2020-05-24\n"
     ]
    }
   ],
   "source": [
    "# todays date\n",
    "today = date.today()\n",
    "print(today)"
   ]
  },
  {
   "cell_type": "code",
   "execution_count": 16,
   "metadata": {},
   "outputs": [
    {
     "data": {
      "text/plain": [
       "(24, 5, 2020)"
      ]
     },
     "execution_count": 16,
     "metadata": {},
     "output_type": "execute_result"
    }
   ],
   "source": [
    "# parse today into date, month and year\n",
    "(today.day, today.month, today.year)"
   ]
  },
  {
   "cell_type": "code",
   "execution_count": 18,
   "metadata": {},
   "outputs": [
    {
     "name": "stdout",
     "output_type": "stream",
     "text": [
      "2020-05-24 13:46:15.490423\n"
     ]
    }
   ],
   "source": [
    "# current date and time\n",
    "rightnow = datetime.now()\n",
    "print(rightnow)"
   ]
  },
  {
   "cell_type": "code",
   "execution_count": 25,
   "metadata": {},
   "outputs": [
    {
     "name": "stdout",
     "output_type": "stream",
     "text": [
      "sun\n"
     ]
    },
    {
     "data": {
      "text/plain": [
       "'Sun'"
      ]
     },
     "execution_count": 25,
     "metadata": {},
     "output_type": "execute_result"
    }
   ],
   "source": [
    "# what day is today\n",
    "weekday_num = today.weekday()\n",
    "weekday = [\"mon\",\"tue\", \"wed\", \"thur\", \"fri\", \"sat\", \"sun\"]\n",
    "print(weekday[weekday_num])\n",
    "\n",
    "# the easy way\n",
    "rightnow.strftime(\"%a\")"
   ]
  },
  {
   "cell_type": "code",
   "execution_count": 22,
   "metadata": {},
   "outputs": [
    {
     "data": {
      "text/plain": [
       "'2020'"
      ]
     },
     "execution_count": 22,
     "metadata": {},
     "output_type": "execute_result"
    }
   ],
   "source": [
    "# display current year using strftime\n",
    "rightnow.strftime(\"%Y\")"
   ]
  },
  {
   "cell_type": "markdown",
   "metadata": {},
   "source": [
    "With timedelta objects, you can estimate the time for both the future and the past"
   ]
  },
  {
   "cell_type": "code",
   "execution_count": 26,
   "metadata": {},
   "outputs": [],
   "source": [
    "from datetime import timedelta"
   ]
  },
  {
   "cell_type": "code",
   "execution_count": 28,
   "metadata": {},
   "outputs": [
    {
     "name": "stdout",
     "output_type": "stream",
     "text": [
      "2021-05-24 13:54:40.751085\n"
     ]
    }
   ],
   "source": [
    "# compute year from today\n",
    "yearfromnow = datetime.now() + timedelta(days=365)\n",
    "print(yearfromnow)"
   ]
  },
  {
   "cell_type": "code",
   "execution_count": 29,
   "metadata": {},
   "outputs": [
    {
     "name": "stdout",
     "output_type": "stream",
     "text": [
      "1574 days, 13:56:49.755560\n"
     ]
    }
   ],
   "source": [
    "# difference between two dates\n",
    "d = datetime.now()\n",
    "date_string = '2/01/2016'\n",
    "d2 = datetime.strptime(date_string, '%m/%d/%Y')\n",
    "print(d - d2)"
   ]
  },
  {
   "cell_type": "code",
   "execution_count": null,
   "metadata": {},
   "outputs": [],
   "source": []
  }
 ],
 "metadata": {
  "kernelspec": {
   "display_name": "Python 3",
   "language": "python",
   "name": "python3"
  },
  "language_info": {
   "codemirror_mode": {
    "name": "ipython",
    "version": 3
   },
   "file_extension": ".py",
   "mimetype": "text/x-python",
   "name": "python",
   "nbconvert_exporter": "python",
   "pygments_lexer": "ipython3",
   "version": "3.7.6"
  }
 },
 "nbformat": 4,
 "nbformat_minor": 4
}
