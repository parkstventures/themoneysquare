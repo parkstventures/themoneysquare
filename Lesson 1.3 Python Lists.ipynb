{
 "cells": [
  {
   "cell_type": "markdown",
   "metadata": {},
   "source": [
    "# Python Lists\n",
    "\n",
    "Subu Sangameswar\n",
    "\n",
    "May 2020\n",
    "\n",
    "- create an list\n",
    "- append to list\n",
    "- loop through list\n",
    "- find length of list\n",
    "- print list\n",
    "- split into list\n",
    "- slice a list\n",
    "- reverse a list\n"
   ]
  },
  {
   "cell_type": "code",
   "execution_count": 20,
   "metadata": {},
   "outputs": [
    {
     "name": "stdout",
     "output_type": "stream",
     "text": [
      "[]\n",
      "['bob', 'sarah', 'mike', 'john', 'jennifer', 'julie']\n",
      "[0, 1, 2, 3, 4, 5, 6, 7, 8, 9]\n"
     ]
    }
   ],
   "source": [
    "# create an empty list\n",
    "l1 = []\n",
    "\n",
    "print(l1)\n",
    "\n",
    "# create a list with few itesm\n",
    "l2 = [\"bob\", \"sarah\", \"mike\", \"john\", \"jennifer\", \"julie\"]\n",
    "\n",
    "print(l2)\n",
    "\n",
    "# simple list\n",
    "l3 = list(range(10))\n",
    "\n",
    "print(l3)"
   ]
  },
  {
   "cell_type": "code",
   "execution_count": 21,
   "metadata": {},
   "outputs": [
    {
     "name": "stdout",
     "output_type": "stream",
     "text": [
      "['first']\n"
     ]
    }
   ],
   "source": [
    "# add items to list\n",
    "l1.append(\"first\")\n",
    "\n",
    "print(l1)"
   ]
  },
  {
   "cell_type": "code",
   "execution_count": 3,
   "metadata": {},
   "outputs": [
    {
     "name": "stdout",
     "output_type": "stream",
     "text": [
      "bob\n",
      "sarah\n",
      "mike\n",
      "john\n",
      "jennifer\n",
      "julie\n"
     ]
    }
   ],
   "source": [
    "# loop through a list\n",
    "\n",
    "for x in l2:\n",
    "    print(x)"
   ]
  },
  {
   "cell_type": "code",
   "execution_count": 4,
   "metadata": {},
   "outputs": [
    {
     "data": {
      "text/plain": [
       "6"
      ]
     },
     "execution_count": 4,
     "metadata": {},
     "output_type": "execute_result"
    }
   ],
   "source": [
    "# length of list\n",
    "len(l2)"
   ]
  },
  {
   "cell_type": "code",
   "execution_count": 5,
   "metadata": {},
   "outputs": [
    {
     "name": "stdout",
     "output_type": "stream",
     "text": [
      "first\n",
      "['bob', 'sarah', 'mike', 'john', 'jennifer', 'julie']\n"
     ]
    }
   ],
   "source": [
    "# add one list to another and print\n",
    "l1.append(l2)\n",
    "\n",
    "for x in l1:\n",
    "    print(x)"
   ]
  },
  {
   "cell_type": "code",
   "execution_count": 6,
   "metadata": {},
   "outputs": [
    {
     "data": {
      "text/plain": [
       "['these', 'three', 'words']"
      ]
     },
     "execution_count": 6,
     "metadata": {},
     "output_type": "execute_result"
    }
   ],
   "source": [
    "# split a line into list\n",
    "threewords = \"these three words\"\n",
    "threewords.split()"
   ]
  },
  {
   "cell_type": "code",
   "execution_count": 12,
   "metadata": {},
   "outputs": [
    {
     "data": {
      "text/plain": [
       "['mike', 'john']"
      ]
     },
     "execution_count": 12,
     "metadata": {},
     "output_type": "execute_result"
    }
   ],
   "source": [
    "# extract an item from list\n",
    "l2[2:4]"
   ]
  },
  {
   "cell_type": "code",
   "execution_count": 14,
   "metadata": {},
   "outputs": [
    {
     "data": {
      "text/plain": [
       "'julie'"
      ]
     },
     "execution_count": 14,
     "metadata": {},
     "output_type": "execute_result"
    }
   ],
   "source": [
    "# extract last item from list\n",
    "l2[-1]"
   ]
  },
  {
   "cell_type": "code",
   "execution_count": 15,
   "metadata": {},
   "outputs": [
    {
     "data": {
      "text/plain": [
       "['julie', 'jennifer', 'john', 'mike', 'sarah', 'bob']"
      ]
     },
     "execution_count": 15,
     "metadata": {},
     "output_type": "execute_result"
    }
   ],
   "source": [
    "# reverse a list\n",
    "l2[::-1]"
   ]
  },
  {
   "cell_type": "markdown",
   "metadata": {},
   "source": [
    "Zip function creates an iterator that aggregates elements from multiple lists. It allows traversing lists in parallel in a for-loop and sorting in parallel. It can be unzipped using an asterisk\n",
    "\n",
    "Ref: https://towardsdatascience.com/5-python-features-i-wish-i-had-known-earlier-bc16e4a13bf4"
   ]
  },
  {
   "cell_type": "code",
   "execution_count": 16,
   "metadata": {},
   "outputs": [
    {
     "name": "stdout",
     "output_type": "stream",
     "text": [
      "[(0, 'zero', 'cero'), (1, 'one', 'uno'), (2, 'two', 'dos')]\n",
      "0 is zero in English and cero in Spanish.\n",
      "1 is one in English and uno in Spanish.\n",
      "2 is two in English and dos in Spanish.\n"
     ]
    }
   ],
   "source": [
    "numList = [0, 1, 2]\n",
    "engList = ['zero', 'one', 'two']\n",
    "espList = ['cero', 'uno', 'dos']\n",
    "print(list(zip(numList, engList, espList)))\n",
    "# [(0, 'zero', 'cero'), (1, 'one', 'uno'), (2, 'two', 'dos')]\n",
    "\n",
    "for num, eng, esp in zip(numList, engList, espList):\n",
    "    print(f'{num} is {eng} in English and {esp} in Spanish.')\n",
    "# 0 is zero in English and cero in Spanish.\n",
    "# 1 is one in English and uno in Spanish.\n",
    "# 2 is two in English and dos in Spanish."
   ]
  },
  {
   "cell_type": "markdown",
   "metadata": {},
   "source": [
    "Enumerate is an automatic counter that is often used in a for-loop, such that there is no need to create and initialise a counter variable anymore in a for-loop by counter = 0 and counter += 1"
   ]
  },
  {
   "cell_type": "code",
   "execution_count": 17,
   "metadata": {},
   "outputs": [
    {
     "name": "stdout",
     "output_type": "stream",
     "text": [
      "1: A and a.\n",
      "2: B and b.\n",
      "3: C and c.\n",
      "4: D and d.\n",
      "5: E and e.\n",
      "6: F and f.\n"
     ]
    }
   ],
   "source": [
    "upperCase = ['A', 'B', 'C', 'D', 'E', 'F']\n",
    "lowerCase = ['a', 'b', 'c', 'd', 'e', 'f']\n",
    "for i, (upper, lower) in enumerate(zip(upperCase, lowerCase), 1):\n",
    "    print(f'{i}: {upper} and {lower}.')"
   ]
  },
  {
   "cell_type": "markdown",
   "metadata": {},
   "source": [
    "List comprehension is a concise and flexible method to create lists from other lists with flexible expressions and conditions"
   ]
  },
  {
   "cell_type": "code",
   "execution_count": 32,
   "metadata": {},
   "outputs": [
    {
     "name": "stdout",
     "output_type": "stream",
     "text": [
      "[0, 1, 2, 3, 4, 5, 6, 7, 8, 9, 10, 11, 12, 13, 14, 15, 16, 17, 18, 19]\n",
      "[0, 1, 4, 9, 16, 25, 36, 49, 64, 81, 100, 121, 144, 169, 196, 225, 256, 289, 324, 361]\n",
      "[0, 1, 4, 9, 16, 25, 36, 49, 64, 81, 100, 121, 144, 169, 196, 225, 256, 289, 324, 361]\n",
      "[1, 3, 5, 7, 9, 11, 13, 15, 17, 19]\n",
      "[1, 3, 5, 7, 9, 11, 13, 15, 17, 19]\n"
     ]
    }
   ],
   "source": [
    "add_func = lambda z: z ** 2\n",
    "is_odd = lambda z: z%2 == 1\n",
    "\n",
    "l4 = list(range(20)) #create a list with 0 to 19\n",
    "\n",
    "print(l4)\n",
    "print(list(map(add_func, l4)))\n",
    "print([x ** 2 for x in l4]) # same as above line\n",
    "print(list(filter(is_odd, l4))) #get only the odd numbers\n",
    "print([x for x in l4 if x%2 == 1]) # same as above"
   ]
  },
  {
   "cell_type": "code",
   "execution_count": null,
   "metadata": {},
   "outputs": [],
   "source": []
  }
 ],
 "metadata": {
  "kernelspec": {
   "display_name": "Python 3",
   "language": "python",
   "name": "python3"
  },
  "language_info": {
   "codemirror_mode": {
    "name": "ipython",
    "version": 3
   },
   "file_extension": ".py",
   "mimetype": "text/x-python",
   "name": "python",
   "nbconvert_exporter": "python",
   "pygments_lexer": "ipython3",
   "version": "3.7.6"
  }
 },
 "nbformat": 4,
 "nbformat_minor": 4
}
